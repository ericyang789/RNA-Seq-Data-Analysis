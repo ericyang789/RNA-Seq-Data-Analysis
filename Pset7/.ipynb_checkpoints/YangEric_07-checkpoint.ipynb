{
 "cells": [
  {
   "cell_type": "markdown",
   "metadata": {},
   "source": [
    "# homework 07: Wiggins' lost labels\n",
    "* Eric Yang\n",
    "* 10/25/20\n",
    "\n",
    "Goal: figure out the missing labels on Wiggins' files with DGEA via edgeR, analyze Wiggins' result of 2246 significantly differentially expressed genes"
   ]
  },
  {
   "cell_type": "code",
   "execution_count": 36,
   "metadata": {},
   "outputs": [],
   "source": [
    "import pandas as pd\n",
    "import numpy as np"
   ]
  },
  {
   "cell_type": "markdown",
   "metadata": {},
   "source": [
    "## 1. write a python function to run an external edgeR analysis"
   ]
  },
  {
   "cell_type": "code",
   "execution_count": 33,
   "metadata": {},
   "outputs": [],
   "source": [
    "# runs edgeR on given counts file, returns gene_names, log_fold_changes, log_CPM, pvalues, FDRs\n",
    "def run_edgeR(counts_file, outfile_name):\n",
    "    # write R file\n",
    "    with open('analyze.R','w') as outfile:\n",
    "        outfile.write('library(edgeR)' + '\\n')\n",
    "        outfile.write('infile <- ' + '\"' + counts_file + '\"'+ '\\n')\n",
    "        outfile.write('group <- factor(c(1,1,1,2,2,2))' + '\\n')\n",
    "        outfile.write('outfile <-' + '\"' + outfile_name + '\"' + '\\n')\n",
    "        outfile.write('x <- read.table(infile, sep=\"\\t\", row.names=1)' + '\\n')\n",
    "        outfile.write('y <- DGEList(counts=x,group=group)' + '\\n')\n",
    "        outfile.write('y <- estimateDisp(y)' + '\\n')\n",
    "        outfile.write('et <- exactTest(y)' + '\\n')\n",
    "        outfile.write('tab <- topTags(et, nrow(x))' + '\\n')\n",
    "        outfile.write('write.table(tab, file=outfile)' + '\\n')\n",
    "    \n",
    "    # run R script\n",
    "    ! Rscript analyze.R\n",
    "    \n",
    "    # parse output file from edgeR\n",
    "    data = pd.read_table(outfile_name,sep='\\s+')\n",
    "    gene_names = data.index\n",
    "    log_FC = data['logFC'].values\n",
    "    log_CPM = data['logCPM'].values\n",
    "    pvalues = data['PValue'].values\n",
    "    FDRs = data['FDR'].values\n",
    "    \n",
    "    return gene_names, log_FC, log_CPM, pvalues, FDRs"
   ]
  },
  {
   "cell_type": "markdown",
   "metadata": {},
   "source": [
    "## 2. reproduce Wiggins' data, assign the missing labels"
   ]
  },
  {
   "cell_type": "code",
   "execution_count": 34,
   "metadata": {},
   "outputs": [],
   "source": [
    "# merge data sets\n",
    "# merge 1 and 2\n",
    "! join -t $'\\t' w07-data.1 w07-data.2 > merged.12\n",
    "# merge 1 and 3\n",
    "! join -t $'\\t' w07-data.1 w07-data.3 > merged.13\n",
    "# merge 2 and 3\n",
    "! join -t $'\\t' w07-data.2 w07-data.3 > merged.23"
   ]
  },
  {
   "cell_type": "code",
   "execution_count": 35,
   "metadata": {
    "scrolled": true
   },
   "outputs": [
    {
     "name": "stdout",
     "output_type": "stream",
     "text": [
      "Loading required package: limma\n",
      "Design matrix not provided. Switch to the classic mode.\n"
     ]
    },
    {
     "name": "stderr",
     "output_type": "stream",
     "text": [
      "/Users/ericyang/anaconda3/lib/python3.6/site-packages/ipykernel_launcher.py:20: FutureWarning: read_table is deprecated, use read_csv instead.\n"
     ]
    },
    {
     "name": "stdout",
     "output_type": "stream",
     "text": [
      "Loading required package: limma\n",
      "Design matrix not provided. Switch to the classic mode.\n",
      "Loading required package: limma\n",
      "Design matrix not provided. Switch to the classic mode.\n"
     ]
    }
   ],
   "source": [
    "# run edgeR on merged data\n",
    "gene_names12, log_FC12, log_CPM12, pvalues12, FDRs12 = run_edgeR('merged.12','result12.out')\n",
    "gene_names13, log_FC13, log_CPM13, pvalues13, FDRs13 = run_edgeR('merged.13','result13.out')\n",
    "gene_names23, log_FC23, log_CPM23, pvalues23, FDRs23 = run_edgeR('merged.23','result23.out')"
   ]
  },
  {
   "cell_type": "markdown",
   "metadata": {},
   "source": [
    "Which combination did Wiggins run to obtain his result of 2246 differentially expressed genes significant at P<0.05?"
   ]
  },
  {
   "cell_type": "code",
   "execution_count": 38,
   "metadata": {},
   "outputs": [
    {
     "name": "stdout",
     "output_type": "stream",
     "text": [
      "merged12:  2246\n",
      "merged13:  988\n",
      "merged23:  2312\n"
     ]
    }
   ],
   "source": [
    "# given p-value threshold = 0.05, count number of p-values less than 0.05 for each merged dataset\n",
    "thresh = 0.05\n",
    "r12 = np.where(pvalues12 < thresh)\n",
    "print(\"merged12: \", len(r12[0]))\n",
    "\n",
    "r13 = np.where(pvalues13 < thresh)\n",
    "print(\"merged13: \", len(r13[0]))\n",
    "\n",
    "r23 = np.where(pvalues23 < thresh)\n",
    "print(\"merged23: \", len(r23[0]))"
   ]
  },
  {
   "cell_type": "markdown",
   "metadata": {},
   "source": [
    "Wiggins got the result of 2246 differentially expressed genes from the combination of w07-data.1 and w07-data.2"
   ]
  },
  {
   "cell_type": "markdown",
   "metadata": {},
   "source": [
    "Which of the three files corresponds to the mutant sand mouse samples? Why?"
   ]
  },
  {
   "cell_type": "markdown",
   "metadata": {},
   "source": [
    "Inferring from Wiggins' incorrect statistical procedure, it looks like w07-data.2 corresponds to the mutant sand mouse sample. There are significantly less p-values that meet Wiggins threshold of p-value < 0.05 in the merged 1 and 3 dataset compared to the two other merged combinations. While the statistical analyses is incomplete, from looking at the p-values alone, we can infer that the expression profiles in dataset 1 and dataset 3 are more similar to one another than each to dataset 3, suggesting that the samples in dataset 2 come from the mutant. Wiggins' procedure tells us that there are less significant different gene expression profiles between datasets 1 and 3 given the threshold. However, this analysis is incomplete, which we will explore further in parts 3 and 4."
   ]
  },
  {
   "cell_type": "markdown",
   "metadata": {},
   "source": [
    "## 3. Wiggins doesn't understand p-values"
   ]
  },
  {
   "cell_type": "markdown",
   "metadata": {},
   "source": [
    "I do not agree with Wiggins' conclusion that 2246 genes are differentially expressed in the wt vs mutant comparison. First, it is unclear why he selected 2246 instead of 2312 obtained by comparing datasets 1 and 3. But the bigger problem is that Wiggins did not correct for the multiple null hypotheses testing done by edgeR. Each p value in the output describes the probability we get a value as extreme given that there is no expression difference **for that gene**. As we have learned, if we apply a p-value threshold to all the tests, we often result in a lot of false positives simply due to chance, especially if the number of tests is high. There are many ways to correct for the multiple testing problem. Instead of lowering the p-value (Bonferroni) which is often times too stringent, edgeR adopts the more robust Benjamini-Hochberg procdure to account for the false discovery rate (FDR), which Wiggins failed to analyze. By accounting for the FDR, we are able to control the number of false positives we make out of all the hypotheses tested, more confidently concluding the number of genes that are truly differentially expressed."
   ]
  },
  {
   "cell_type": "code",
   "execution_count": 60,
   "metadata": {},
   "outputs": [
    {
     "data": {
      "text/plain": [
       "74"
      ]
     },
     "execution_count": 60,
     "metadata": {},
     "output_type": "execute_result"
    }
   ],
   "source": [
    "len(idx12[0])"
   ]
  },
  {
   "cell_type": "code",
   "execution_count": 62,
   "metadata": {},
   "outputs": [
    {
     "name": "stdout",
     "output_type": "stream",
     "text": [
      "# significantly expressed 1 vs 2:  74\n",
      "new p-value cutoff 1 vs 2:  0.00017823136576347\n",
      "# significantly expressed 1 vs 3:  0\n",
      "# significantly expressed 2 vs 3:  70\n",
      "new p-value cutoff 2 vs 3:  0.00016714395691623402\n"
     ]
    }
   ],
   "source": [
    "# FDR threshold to determine appropriate statistical cutoff\n",
    "FDR_thresh = 0.05\n",
    "idx12 = np.where(FDRs12 < 0.05)\n",
    "print(\"# significantly expressed 1 vs 2: \", len(idx12[0])) \n",
    "print(\"new p-value cutoff 1 vs 2: \", pvalues12[np.max(idx12)])\n",
    "idx13 = np.where(FDRs13 < 0.05)\n",
    "print(\"# significantly expressed 1 vs 3: \", len(idx13[0])) \n",
    "idx23 = np.where(FDRs23 < 0.05)\n",
    "print(\"# significantly expressed 2 vs 3: \", len(idx23[0])) \n",
    "print(\"new p-value cutoff 2 vs 3: \", pvalues23[np.max(idx23)])"
   ]
  },
  {
   "cell_type": "markdown",
   "metadata": {},
   "source": [
    "The more appropriate statistical cutoff here is to use a FDR cutoff of 0.05, which is typically done, instead of a universal p-value threshold. Given the new threshold, there are 74 differentially expressed genes between samples 1 and 2, 0 between samples 1 and 3, and 70 between samples 2 and 3. The corresponding p-values are also shown above. These counts are much less than 2246, with FDR cutoff being much stricter than the simple p<0.05. We are now more certain that most of our discoveries are true positives and the result between samples 1 and 3 confirms our labeling of sample 2 being the mutant."
   ]
  },
  {
   "cell_type": "markdown",
   "metadata": {},
   "source": [
    "## 4. Wiggins missed something else too"
   ]
  },
  {
   "cell_type": "markdown",
   "metadata": {},
   "source": [
    "Looking at Wiggins edgeR pipeline, it looks like Wiggins forgot to normalize for indirect effects on relative abundance. As we have learned in the course, RNA seq experiments give us relative abundances, which is a zero sum game. For example, let's say there are 2 genes A and B that are mapped and compared between an experimental condition and a control. If gene A is overexpressed in an experimental condition, and gene B expression from the experimental condition stays the same as gene B expression from the control, the relative abundance of gene B from the condition will be lower since it holds a lower proportion out of all the samples in the experimental condition, even though its absolute counts did not change compared to the control. If we do not account for this, we would mistakenly conclude that gene B is underexpressed in the experimental condition. EdgeR has a step called calcNormFactors that implements trimmed mean of M-values (TMM) to deal with this. EdgeR essentially \"trims\" the outliers and recalculates the means to figure out how much of this relative abundance shift occured and corrects for it. "
   ]
  },
  {
   "cell_type": "code",
   "execution_count": 63,
   "metadata": {},
   "outputs": [],
   "source": [
    "# add calcNormFactors in pipeline to correct for relative abundance\n",
    "# runs edgeR on given counts file, returns gene_names, log_fold_changes, log_CPM, pvalues, FDRs\n",
    "def run_edgeR_norm(counts_file, outfile_name):\n",
    "    # write R file\n",
    "    with open('analyze.R','w') as outfile:\n",
    "        outfile.write('library(edgeR)' + '\\n')\n",
    "        outfile.write('infile <- ' + '\"' + counts_file + '\"'+ '\\n')\n",
    "        outfile.write('group <- factor(c(1,1,1,2,2,2))' + '\\n')\n",
    "        outfile.write('outfile <-' + '\"' + outfile_name + '\"' + '\\n')\n",
    "        outfile.write('x <- read.table(infile, sep=\"\\t\", row.names=1)' + '\\n')\n",
    "        outfile.write('y <- DGEList(counts=x,group=group)' + '\\n')\n",
    "        outfile.write('y <- calcNormFactors(y)' + '\\n')\n",
    "        outfile.write('y <- estimateDisp(y)' + '\\n')\n",
    "        outfile.write('et <- exactTest(y)' + '\\n')\n",
    "        outfile.write('tab <- topTags(et, nrow(x))' + '\\n')\n",
    "        outfile.write('write.table(tab, file=outfile)' + '\\n')\n",
    "    \n",
    "    # run R script\n",
    "    ! Rscript analyze.R\n",
    "    \n",
    "    # parse output file from edgeR\n",
    "    data = pd.read_table(outfile_name,sep='\\s+')\n",
    "    gene_names = data.index\n",
    "    log_FC = data['logFC'].values\n",
    "    log_CPM = data['logCPM'].values\n",
    "    pvalues = data['PValue'].values\n",
    "    FDRs = data['FDR'].values\n",
    "    \n",
    "    return gene_names, log_FC, log_CPM, pvalues, FDRs"
   ]
  },
  {
   "cell_type": "code",
   "execution_count": 68,
   "metadata": {},
   "outputs": [
    {
     "name": "stdout",
     "output_type": "stream",
     "text": [
      "Loading required package: limma\n",
      "Design matrix not provided. Switch to the classic mode.\n"
     ]
    },
    {
     "name": "stderr",
     "output_type": "stream",
     "text": [
      "/Users/ericyang/anaconda3/lib/python3.6/site-packages/ipykernel_launcher.py:22: FutureWarning: read_table is deprecated, use read_csv instead.\n"
     ]
    },
    {
     "name": "stdout",
     "output_type": "stream",
     "text": [
      "Loading required package: limma\n",
      "Design matrix not provided. Switch to the classic mode.\n",
      "Loading required package: limma\n",
      "Design matrix not provided. Switch to the classic mode.\n"
     ]
    }
   ],
   "source": [
    "# run correct ededgeR on merged data\n",
    "gene_names12_norm, log_FC12_norm, log_CPM12_norm, pvalues12_norm, FDRs12_norm = run_edgeR_norm('merged.12','result12_norm.out')\n",
    "gene_names13_norm, log_FC13_norm, log_CPM13_norm, pvalues13_norm, FDRs13_norm = run_edgeR_norm('merged.13','result13_norm.out')\n",
    "gene_names23_norm, log_FC23_norm, log_CPM23_norm, pvalues23_norm, FDRs23_norm = run_edgeR_norm('merged.23','result23_norm.out')"
   ]
  },
  {
   "cell_type": "code",
   "execution_count": 69,
   "metadata": {},
   "outputs": [
    {
     "name": "stdout",
     "output_type": "stream",
     "text": [
      "# significantly expressed 1 vs 2:  53\n",
      "new p-value cutoff 1 vs 2:  0.000118446557859175\n",
      "# significantly expressed 1 vs 3:  0\n",
      "# significantly expressed 2 vs 3:  51\n",
      "new p-value cutoff 2 vs 3:  5.31938828059751e-05\n"
     ]
    }
   ],
   "source": [
    "# FDR threshold to determine appropriate statistical cutoff\n",
    "FDR_thresh = 0.05\n",
    "idx12_norm = np.where(FDRs12_norm < 0.05)\n",
    "print(\"# significantly expressed 1 vs 2: \", len(idx12_norm[0])) \n",
    "print(\"new p-value cutoff 1 vs 2: \", pvalues12_norm[np.max(idx12_norm)])\n",
    "idx13_norm = np.where(FDRs13_norm < 0.05)\n",
    "print(\"# significantly expressed 1 vs 3: \", len(idx13_norm[0])) \n",
    "idx23_norm = np.where(FDRs23_norm < 0.05)\n",
    "print(\"# significantly expressed 2 vs 3: \", len(idx23_norm[0])) \n",
    "print(\"new p-value cutoff 2 vs 3: \", pvalues23_norm[np.max(idx23_norm)])"
   ]
  },
  {
   "cell_type": "markdown",
   "metadata": {},
   "source": [
    "With a FDR threshold of 0.05 and accounting for relative abundance, there are now 53 differentially expressed genes between samples 1 and 2, 0 between samples 1 and 3, and 51 between samples 2 and 3. The corresponding p-values are also shown above. The new counts are less than the ones obtained without accounting for relative abundance. This makes sense as we eliminate the \"discoveries\" that were caused by inadvertant changes in relative abundance. With this complete pipeline, we are now even more certain that most of our discoveries are true positives."
   ]
  },
  {
   "cell_type": "markdown",
   "metadata": {},
   "source": [
    "Making additional connections to biology, it is of note that biological data is often noisy and even though both samples 1 and 3 are considered wild types, comparing each of them to the mutant sample 2 yields slightly different results. Comparing the mutant to sample 1 suggests that there are 53 differentially expressed genes while there are only 51 comparing the mutant to sample 3. Here are some exploratory analyses:"
   ]
  },
  {
   "cell_type": "code",
   "execution_count": 76,
   "metadata": {},
   "outputs": [
    {
     "data": {
      "text/plain": [
       "50"
      ]
     },
     "execution_count": 76,
     "metadata": {},
     "output_type": "execute_result"
    }
   ],
   "source": [
    "# differentially expressed genes concluded in both 1 vs 2 and 2 vs 3\n",
    "len(list(set(gene_names12_norm[0:53])&set(gene_names23_norm[0:51])))"
   ]
  },
  {
   "cell_type": "markdown",
   "metadata": {},
   "source": [
    "There are 50 genes that we conclude are differentially expressed in the mutant compared to both of the wild type samples. "
   ]
  },
  {
   "cell_type": "code",
   "execution_count": 78,
   "metadata": {
    "scrolled": true
   },
   "outputs": [
    {
     "data": {
      "text/plain": [
       "['ACOXL', 'DOK5', 'ITPR1']"
      ]
     },
     "execution_count": 78,
     "metadata": {},
     "output_type": "execute_result"
    }
   ],
   "source": [
    "# compare differences\n",
    "list(set(gene_names12_norm[0:53])-set(gene_names23_norm[0:51]))"
   ]
  },
  {
   "cell_type": "markdown",
   "metadata": {},
   "source": [
    "The 'ACOXL', 'DOK5', 'ITPR1' genes were determined as differentially expressed when comparing the mutant sample to sample 1 but this was not concluded when comparing to sample 3. It is of note that these genes corresponded to the 3 FDR values right up to the FDR<0.05 threshold. "
   ]
  },
  {
   "cell_type": "code",
   "execution_count": 82,
   "metadata": {
    "scrolled": true
   },
   "outputs": [
    {
     "data": {
      "text/plain": [
       "['AKAP8L']"
      ]
     },
     "execution_count": 82,
     "metadata": {},
     "output_type": "execute_result"
    }
   ],
   "source": [
    "# compare differences in the other direction\n",
    "list(set(gene_names23_norm[0:51])-set(gene_names12_norm[0:53]))"
   ]
  },
  {
   "cell_type": "markdown",
   "metadata": {},
   "source": [
    "The 'AKAP8L' gene was determined as differentially expressed when comparing the mutant sample to sample 3 but this was not concluded when comparing to sample 1. Again, this gene corresponded to the last accepted FDR value right up to the FDR<0.05 threshold. All four of these genes that only belong to one of the two comparisons are right on the edge, potentially from technical or biological noise, or even batch effects commonly found in RNA seq data. Compared to the 50 genes that were found in both comparisons, I am less confident in concluding that these 4 genes were differentially expressed in the mutant compared to the wild type. "
   ]
  }
 ],
 "metadata": {
  "kernelspec": {
   "display_name": "Python 3",
   "language": "python",
   "name": "python3"
  },
  "language_info": {
   "codemirror_mode": {
    "name": "ipython",
    "version": 3
   },
   "file_extension": ".py",
   "mimetype": "text/x-python",
   "name": "python",
   "nbconvert_exporter": "python",
   "pygments_lexer": "ipython3",
   "version": "3.6.8"
  }
 },
 "nbformat": 4,
 "nbformat_minor": 2
}
