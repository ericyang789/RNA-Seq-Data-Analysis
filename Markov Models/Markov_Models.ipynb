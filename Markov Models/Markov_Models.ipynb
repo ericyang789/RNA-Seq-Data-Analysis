{
 "cells": [
  {
   "cell_type": "markdown",
   "metadata": {},
   "source": [
    "# homework 04: a plague of sand mice\n",
    "* Eric Yang\n",
    "* 10/04/20"
   ]
  },
  {
   "cell_type": "markdown",
   "metadata": {},
   "source": [
    "1. test Moriarty's method yourself"
   ]
  },
  {
   "cell_type": "code",
   "execution_count": 280,
   "metadata": {},
   "outputs": [],
   "source": [
    "import numpy as np\n",
    "import matplotlib.pyplot as plt\n",
    "from sklearn.model_selection import train_test_split\n",
    "from sklearn.metrics import roc_curve # sklearn allowed for pset according to piazza\n",
    "import seaborn as sns"
   ]
  },
  {
   "cell_type": "code",
   "execution_count": 281,
   "metadata": {},
   "outputs": [],
   "source": [
    "# takes in a filename and stores sequences as a list of strings\n",
    "def get_seqs(filename):\n",
    "    seqs = []\n",
    "    with open(filename, 'r') as infile:\n",
    "        for count, line in enumerate(infile):\n",
    "            if count % 2 == 1: # only store seqs\n",
    "                seqs.append(line.strip())\n",
    "    return seqs"
   ]
  },
  {
   "cell_type": "code",
   "execution_count": 282,
   "metadata": {},
   "outputs": [],
   "source": [
    "# get pathogen and sandmouse seqs \n",
    "pathogen = get_seqs('pathogen.fa')\n",
    "sandmouse = get_seqs('sandmouse.fa')"
   ]
  },
  {
   "cell_type": "code",
   "execution_count": 287,
   "metadata": {},
   "outputs": [],
   "source": [
    "# calculate scores of sequences based on Moriarty's method \n",
    "# for each sequence, a \"A\" or \"T\" gets +1, and a \"C\" or \"G\" gets -1\n",
    "def calc_score(seqs):\n",
    "    scores = []\n",
    "    for seq in seqs:\n",
    "        score = 0\n",
    "        for base in seq:\n",
    "            if base == \"A\" or base == \"T\":\n",
    "                score += 1\n",
    "            else:\n",
    "                score -= 1\n",
    "        scores.append(score)\n",
    "    return scores"
   ]
  },
  {
   "cell_type": "code",
   "execution_count": 288,
   "metadata": {},
   "outputs": [],
   "source": [
    "# calculate scores of pathogen seqs and sandmouse seqs\n",
    "pathogen_scores = calc_score(pathogen)\n",
    "sandmouse_scores = calc_score(sandmouse)"
   ]
  },
  {
   "cell_type": "code",
   "execution_count": 293,
   "metadata": {
    "scrolled": true
   },
   "outputs": [
    {
     "data": {
      "image/png": "[encoded data removed]",
      "text/plain": [
       "<Figure size 432x288 with 1 Axes>"
      ]
     },
     "metadata": {
      "needs_background": "light"
     },
     "output_type": "display_data"
    }
   ],
   "source": [
    "# plot histogram\n",
    "bins = np.linspace(50,200,50)\n",
    "plt.hist(pathogen_scores, bins, alpha=0.5, label='pathogen')\n",
    "plt.hist(sandmouse_scores, bins, alpha=0.5, label='sandmouse')\n",
    "plt.legend(loc='upper left')\n",
    "plt.show()"
   ]
  },
  {
   "cell_type": "code",
   "execution_count": 294,
   "metadata": {},
   "outputs": [
    {
     "name": "stdout",
     "output_type": "stream",
     "text": [
      "pathogen mean:  109.9678\n",
      "pathogen sd:  12.75053579893802\n",
      "sandmouse mean:  109.9276\n",
      "sandmouse sd:  11.970111037078977\n"
     ]
    }
   ],
   "source": [
    "print(\"pathogen mean: \", np.mean(pathogen_scores))\n",
    "print(\"pathogen sd: \", np.std(pathogen_scores))\n",
    "print(\"sandmouse mean: \", np.mean(sandmouse_scores))\n",
    "print(\"sandmouse sd: \", np.std(sandmouse_scores))"
   ]
  },
  {
   "cell_type": "code",
   "execution_count": 295,
   "metadata": {},
   "outputs": [],
   "source": [
    "# combine scores into one list for roc plotting\n",
    "all_scores = pathogen_scores + sandmouse_scores\n",
    "\n",
    "# real classes, pathogen = 1, sandmouse = 0\n",
    "# list of 10000 1s followed by 10000 0s, matching all_scores variable\n",
    "actual_class = np.append(np.ones(10000),np.zeros(10000))\n",
    "\n",
    "# calculate false positive, true positive rates\n",
    "fpr, tpr, thresholds = roc_curve(actual_class, all_scores)"
   ]
  },
  {
   "cell_type": "code",
   "execution_count": 296,
   "metadata": {},
   "outputs": [
    {
     "data": {
      "image/png": "[encoded data removed]",
      "text/plain": [
       "<Figure size 432x288 with 1 Axes>"
      ]
     },
     "metadata": {
      "needs_background": "light"
     },
     "output_type": "display_data"
    }
   ],
   "source": [
    "# plot roc curve\n",
    "plt.figure()\n",
    "plt.plot(fpr, tpr, color='darkorange',lw=2)\n",
    "plt.plot([0, 1], [0, 1], color='navy', lw=lw, linestyle='--')\n",
    "plt.xlim([0.0, 1.0])\n",
    "plt.ylim([0.0, 1.05])\n",
    "plt.xlabel('False Positive Rate (1-TNR)')\n",
    "plt.ylabel('True Positive Rate')\n",
    "plt.title('Moriarty model ROC curve')\n",
    "plt.legend(labels=('Moriarty model','Random'))\n",
    "plt.show()"
   ]
  },
  {
   "cell_type": "markdown",
   "metadata": {},
   "source": [
    "Using the pathogen and sandmouse sequences as test sets on Moriarty's model, it looks like the distributions of these groups are completely overlapping, with essentially identical means and standard deviations. The scores in these distributions are all positive, indicating higher AT content. Moriarty was able to discern between the pathogen distribution (mean >> 0) from a random distribution (mean = 0), but the same model does not work for sequences with similar Moriarty-score distributions. As we can see from the ROC curve, our model gets it wrong about 50% of the time regardless of thershold value, since we are almost always guessing and essentially flipping a coin. We need a better model!"
   ]
  },
  {
   "cell_type": "markdown",
   "metadata": {},
   "source": [
    "2. make your own model"
   ]
  },
  {
   "cell_type": "code",
   "execution_count": 297,
   "metadata": {},
   "outputs": [],
   "source": [
    "# split pathogen and sandmouse seqs into 50/50 train and test sets, 5000 each\n",
    "pathogen_train, pathogen_test = train_test_split(pathogen, test_size=0.5, random_state=5)\n",
    "sandmouse_train, sandmouse_test = train_test_split(sandmouse, test_size=0.5, random_state=5)"
   ]
  },
  {
   "cell_type": "code",
   "execution_count": 225,
   "metadata": {},
   "outputs": [],
   "source": [
    "# given a list of sequences, returns a dictionary of 2-mers proportions and a dictionary of 3-mers proportions\n",
    "def second_order_markov(seqs):\n",
    "    prop_2mers = {}\n",
    "    prop_3mers = {}\n",
    "    total_2mers = 0 # total numbers of 2 mers in these seqs (non-unique)\n",
    "    total_3mers = 0 # total numbers of 3 mers in these seqs (non-unique)\n",
    "    for seq in seqs:\n",
    "        index = 0\n",
    "        while index <= len(seq)-3: #stop after counting last 3-mer\n",
    "            two_mer = seq[index:index+2]\n",
    "            # add this 2-mer to dict\n",
    "            if (two_mer in prop_2mers.keys()):\n",
    "                prop_2mers[two_mer] += 1\n",
    "            else:\n",
    "                prop_2mers[two_mer] = 1\n",
    "            total_2mers += 1\n",
    "            \n",
    "            three_mer = seq[index:index+3]\n",
    "            # add this 3-mer to dict\n",
    "            if (three_mer in prop_3mers.keys()):\n",
    "                prop_3mers[three_mer] += 1\n",
    "            else:\n",
    "                prop_3mers[three_mer] = 1\n",
    "            total_3mers += 1\n",
    "            index += 1\n",
    "            \n",
    "        #need to account for last 2-mer since we stopped early\n",
    "        two_mer = seq[-2:]\n",
    "        if (two_mer in prop_2mers.keys()):\n",
    "            prop_2mers[two_mer] += 1\n",
    "        else:\n",
    "            prop_2mers[two_mer] = 1\n",
    "    \n",
    "    # divide all frequencies by total number to get proportions\n",
    "    prop_2mers = {k: v / total_2mers for k, v in prop_2mers.items()}\n",
    "    prop_3mers = {k: v / total_3mers for k, v in prop_3mers.items()}    \n",
    "        \n",
    "    return prop_2mers, prop_3mers # keys are sequences, values are proportions"
   ]
  },
  {
   "cell_type": "code",
   "execution_count": 303,
   "metadata": {},
   "outputs": [],
   "source": [
    "# train second order Markov model on pathogen_train seqs\n",
    "pathogen_2mers, pathogen_3mers = second_order_markov(pathogen_train)"
   ]
  },
  {
   "cell_type": "code",
   "execution_count": 307,
   "metadata": {},
   "outputs": [],
   "source": [
    "# train second order Markov model on sandmouse_train seqs\n",
    "sandmouse_2mers, sandmouse_3mers = second_order_markov(sandmouse_train)"
   ]
  },
  {
   "cell_type": "code",
   "execution_count": 308,
   "metadata": {},
   "outputs": [],
   "source": [
    "# calculate the log-odds score for a sequence read, given the read sequence and the two 2nd order Markov models\n",
    "def calc_log_odds(seq, two_mer_model, three_mer_model):\n",
    "    initial_prob = np.log10(two_mer_model[seq[0:2]])\n",
    "    conditional_probs = 0\n",
    "    for idx in range(2,len(seq)):\n",
    "        numerator = three_mer_model[seq[idx-2:idx+1]]\n",
    "        denominator = two_mer_model[seq[idx-2:idx]]\n",
    "        conditional_probs += np.log10(numerator/denominator)\n",
    "    return initial_prob + conditional_probs"
   ]
  },
  {
   "cell_type": "code",
   "execution_count": 309,
   "metadata": {},
   "outputs": [],
   "source": [
    "# calculate 2 log-odds scores (1 given pathogen model, 1 given sandmouse model) for each sequence in pathogen_test and sandmouse_test\n",
    "pathogen_log_scores = []\n",
    "for seq in pathogen_test:\n",
    "    # P(seq | pathogen model) / P(seq | sandmouse model)\n",
    "    ratio = calc_log_odds(seq, pathogen_2mers, pathogen_3mers) - calc_log_odds(seq, sandmouse_2mers, sandmouse_3mers)\n",
    "    pathogen_log_scores.append(ratio)\n",
    "    \n",
    "sandmouse_log_scores = []\n",
    "for seq in sandmouse_test:\n",
    "    # P(seq | pathogen model) / P(seq | sandmouse model)\n",
    "    ratio = calc_log_odds(seq, pathogen_2mers, pathogen_3mers) - calc_log_odds(seq, sandmouse_2mers, sandmouse_3mers)\n",
    "    sandmouse_log_scores.append(ratio)"
   ]
  },
  {
   "cell_type": "code",
   "execution_count": 310,
   "metadata": {},
   "outputs": [
    {
     "data": {
      "image/png": "[encoded data removed]",
      "text/plain": [
       "<Figure size 432x288 with 1 Axes>"
      ]
     },
     "metadata": {
      "needs_background": "light"
     },
     "output_type": "display_data"
    }
   ],
   "source": [
    "# plot histogram\n",
    "bins = np.linspace(-10,10,100)\n",
    "plt.hist(pathogen_log_scores, bins, alpha=0.5, label='pathogen')\n",
    "plt.hist(sandmouse_log_scores, bins, alpha=0.5, label='sandmouse')\n",
    "plt.legend(loc='upper left')\n",
    "plt.show()"
   ]
  },
  {
   "cell_type": "code",
   "execution_count": 311,
   "metadata": {},
   "outputs": [
    {
     "data": {
      "image/png": "[encoded data removed]",
      "text/plain": [
       "<Figure size 432x288 with 1 Axes>"
      ]
     },
     "metadata": {
      "needs_background": "light"
     },
     "output_type": "display_data"
    }
   ],
   "source": [
    "# combine scores into one list for roc plotting\n",
    "all_log_scores = pathogen_log_scores + sandmouse_log_scores\n",
    "\n",
    "# real classes, pathogen = 1, sandmouse = 0\n",
    "# list of 5000 1s followed by 5000 0s, matching all_scores variable\n",
    "actual_class = np.append(np.ones(5000),np.zeros(5000))\n",
    "\n",
    "# calculate false positive, true positive rates\n",
    "fpr, tpr, thresholds = roc_curve(actual_class, all_log_scores)\n",
    "\n",
    "# plot roc curve\n",
    "plt.figure()\n",
    "plt.plot(fpr, tpr, color='darkorange',lw=2)\n",
    "plt.plot([0, 1], [0, 1], color='navy', lw=lw, linestyle='--')\n",
    "plt.xlim([0.0, 1.0])\n",
    "plt.ylim([0.0, 1.05])\n",
    "plt.xlabel('False Positive Rate (1-TNR)')\n",
    "plt.ylabel('True Positive Rate')\n",
    "plt.title('Second order Markov model ROC curve on test data')\n",
    "plt.legend(labels=('Second order Markov model','Random'))\n",
    "plt.show()"
   ]
  },
  {
   "cell_type": "markdown",
   "metadata": {},
   "source": [
    "3. how good is your method?"
   ]
  },
  {
   "cell_type": "code",
   "execution_count": 312,
   "metadata": {},
   "outputs": [
    {
     "data": {
      "text/plain": [
       "array([0.31683723, 0.31216052])"
      ]
     },
     "execution_count": 312,
     "metadata": {},
     "output_type": "execute_result"
    }
   ],
   "source": [
    "# get index where tpr is 0.9\n",
    "idx = np.where(tpr == 0.9)\n",
    "# get threshold value via index\n",
    "threshold = thresholds[idx]\n",
    "threshold"
   ]
  },
  {
   "cell_type": "markdown",
   "metadata": {},
   "source": [
    "There are 2 threholds where I can achieve 90% sensitivity due to rounding errors, I will select the more conservative one, which is threshold = 0.312"
   ]
  },
  {
   "cell_type": "code",
   "execution_count": 313,
   "metadata": {},
   "outputs": [
    {
     "data": {
      "text/plain": [
       "0.041"
      ]
     },
     "execution_count": 313,
     "metadata": {},
     "output_type": "execute_result"
    }
   ],
   "source": [
    "# get fpr at that threshold\n",
    "fpr[idx[0][1]]"
   ]
  },
  {
   "cell_type": "markdown",
   "metadata": {},
   "source": [
    "The false positive rate at threshold = 0.312 is about 0.041."
   ]
  },
  {
   "cell_type": "markdown",
   "metadata": {},
   "source": [
    "For an infected sand mouse, if 1% of the reads are from the pathogen and 99% of the reads are from the sandmouse, and given a tpr of 0.9 and a fpr of 0.04, we expect the following confusion matrix for a total sample size of 10,000 sequences:"
   ]
  },
  {
   "cell_type": "code",
   "execution_count": 314,
   "metadata": {},
   "outputs": [],
   "source": [
    "def plot_confusion_matrix(PP, PS, SP, SS):\n",
    "    \"\"\"\n",
    "    Plots a confusion matrix using the values \n",
    "       PP - actual pathogen predicted pathogen\n",
    "       PS - actual pathogen predicted sandmouse\n",
    "       SP - actual sandmouse predicted pathogen\n",
    "       SS - actual sandmouse predicted sandmouse\n",
    "    \"\"\"\n",
    "    data = np.matrix([[PP, PS], [SP, SS]])\n",
    "\n",
    "    sns.heatmap(data,annot=True,xticklabels=['Actual Pathogen', 'Actual Sandmouse'] \n",
    "              ,yticklabels=['Pred. Pathogen', 'Pred. Sandmouse'])\n"
   ]
  },
  {
   "cell_type": "code",
   "execution_count": 315,
   "metadata": {},
   "outputs": [
    {
     "data": {
      "image/png": "[encoded data removed]",
      "text/plain": [
       "<Figure size 432x288 with 2 Axes>"
      ]
     },
     "metadata": {
      "needs_background": "light"
     },
     "output_type": "display_data"
    }
   ],
   "source": [
    "plot_confusion_matrix(90,396,10,9504)"
   ]
  },
  {
   "cell_type": "code",
   "execution_count": 316,
   "metadata": {},
   "outputs": [
    {
     "data": {
      "text/plain": [
       "0.8148148148148148"
      ]
     },
     "execution_count": 316,
     "metadata": {},
     "output_type": "execute_result"
    }
   ],
   "source": [
    "# fdr = fp/(tp+fp)\n",
    "fdr = 396/(90 + 396)\n",
    "fdr"
   ]
  },
  {
   "cell_type": "markdown",
   "metadata": {},
   "source": [
    "With this imbalance of true categories, we have a very high false discovery rate of 0.815."
   ]
  }
 ],
 "metadata": {
  "kernelspec": {
   "display_name": "Python 3",
   "language": "python",
   "name": "python3"
  },
  "language_info": {
   "codemirror_mode": {
    "name": "ipython",
    "version": 3
   },
   "file_extension": ".py",
   "mimetype": "text/x-python",
   "name": "python",
   "nbconvert_exporter": "python",
   "pygments_lexer": "ipython3",
   "version": "3.6.8"
  }
 },
 "nbformat": 4,
 "nbformat_minor": 2
}
