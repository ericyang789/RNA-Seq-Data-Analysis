{
 "cells": [
  {
   "cell_type": "markdown",
   "metadata": {},
   "source": [
    "# homework 10: the adventure of the moonlighting genes\n",
    "* Eric Yang\n",
    "* 11/14/20"
   ]
  },
  {
   "cell_type": "markdown",
   "metadata": {},
   "source": [
    "Goal: predict gene battery relationtionships from Adler's RNA-seq data with NMF"
   ]
  },
  {
   "cell_type": "code",
   "execution_count": 1,
   "metadata": {},
   "outputs": [],
   "source": [
    "import numpy as np\n",
    "import pandas as pd\n",
    "import matplotlib.pyplot as plt"
   ]
  },
  {
   "cell_type": "code",
   "execution_count": 2,
   "metadata": {},
   "outputs": [],
   "source": [
    "# read in Adler's RNA-seq data, column name is cell number\n",
    "data = pd.read_csv('w10-data.tbl', delim_whitespace=True, index_col=0, names=range(60))"
   ]
  },
  {
   "cell_type": "code",
   "execution_count": 3,
   "metadata": {},
   "outputs": [
    {
     "data": {
      "text/html": [
       "<div>\n",
       "<style scoped>\n",
       "    .dataframe tbody tr th:only-of-type {\n",
       "        vertical-align: middle;\n",
       "    }\n",
       "\n",
       "    .dataframe tbody tr th {\n",
       "        vertical-align: top;\n",
       "    }\n",
       "\n",
       "    .dataframe thead th {\n",
       "        text-align: right;\n",
       "    }\n",
       "</style>\n",
       "<table border=\"1\" class=\"dataframe\">\n",
       "  <thead>\n",
       "    <tr style=\"text-align: right;\">\n",
       "      <th></th>\n",
       "      <th>0</th>\n",
       "      <th>1</th>\n",
       "      <th>2</th>\n",
       "      <th>3</th>\n",
       "      <th>4</th>\n",
       "      <th>5</th>\n",
       "      <th>6</th>\n",
       "      <th>7</th>\n",
       "      <th>8</th>\n",
       "      <th>9</th>\n",
       "      <th>...</th>\n",
       "      <th>50</th>\n",
       "      <th>51</th>\n",
       "      <th>52</th>\n",
       "      <th>53</th>\n",
       "      <th>54</th>\n",
       "      <th>55</th>\n",
       "      <th>56</th>\n",
       "      <th>57</th>\n",
       "      <th>58</th>\n",
       "      <th>59</th>\n",
       "    </tr>\n",
       "  </thead>\n",
       "  <tbody>\n",
       "    <tr>\n",
       "      <th>anise</th>\n",
       "      <td>1453</td>\n",
       "      <td>11100</td>\n",
       "      <td>4600</td>\n",
       "      <td>6130</td>\n",
       "      <td>8434</td>\n",
       "      <td>9249</td>\n",
       "      <td>2232</td>\n",
       "      <td>10746</td>\n",
       "      <td>4745</td>\n",
       "      <td>2764</td>\n",
       "      <td>...</td>\n",
       "      <td>2859</td>\n",
       "      <td>715</td>\n",
       "      <td>10075</td>\n",
       "      <td>1816</td>\n",
       "      <td>196</td>\n",
       "      <td>3506</td>\n",
       "      <td>3454</td>\n",
       "      <td>3576</td>\n",
       "      <td>6269</td>\n",
       "      <td>835</td>\n",
       "    </tr>\n",
       "    <tr>\n",
       "      <th>apricot</th>\n",
       "      <td>944</td>\n",
       "      <td>14</td>\n",
       "      <td>1591</td>\n",
       "      <td>142</td>\n",
       "      <td>372</td>\n",
       "      <td>568</td>\n",
       "      <td>1374</td>\n",
       "      <td>154</td>\n",
       "      <td>582</td>\n",
       "      <td>651</td>\n",
       "      <td>...</td>\n",
       "      <td>375</td>\n",
       "      <td>1257</td>\n",
       "      <td>217</td>\n",
       "      <td>300</td>\n",
       "      <td>2250</td>\n",
       "      <td>460</td>\n",
       "      <td>578</td>\n",
       "      <td>415</td>\n",
       "      <td>1330</td>\n",
       "      <td>1387</td>\n",
       "    </tr>\n",
       "    <tr>\n",
       "      <th>artichoke</th>\n",
       "      <td>883</td>\n",
       "      <td>155</td>\n",
       "      <td>278</td>\n",
       "      <td>720</td>\n",
       "      <td>23</td>\n",
       "      <td>175</td>\n",
       "      <td>15</td>\n",
       "      <td>206</td>\n",
       "      <td>560</td>\n",
       "      <td>937</td>\n",
       "      <td>...</td>\n",
       "      <td>922</td>\n",
       "      <td>395</td>\n",
       "      <td>122</td>\n",
       "      <td>557</td>\n",
       "      <td>465</td>\n",
       "      <td>400</td>\n",
       "      <td>512</td>\n",
       "      <td>825</td>\n",
       "      <td>27</td>\n",
       "      <td>609</td>\n",
       "    </tr>\n",
       "    <tr>\n",
       "      <th>arugula</th>\n",
       "      <td>228</td>\n",
       "      <td>35</td>\n",
       "      <td>69</td>\n",
       "      <td>158</td>\n",
       "      <td>9</td>\n",
       "      <td>44</td>\n",
       "      <td>2</td>\n",
       "      <td>48</td>\n",
       "      <td>115</td>\n",
       "      <td>231</td>\n",
       "      <td>...</td>\n",
       "      <td>198</td>\n",
       "      <td>94</td>\n",
       "      <td>44</td>\n",
       "      <td>135</td>\n",
       "      <td>105</td>\n",
       "      <td>84</td>\n",
       "      <td>114</td>\n",
       "      <td>167</td>\n",
       "      <td>3</td>\n",
       "      <td>134</td>\n",
       "    </tr>\n",
       "    <tr>\n",
       "      <th>asparagus</th>\n",
       "      <td>608</td>\n",
       "      <td>5</td>\n",
       "      <td>1065</td>\n",
       "      <td>89</td>\n",
       "      <td>262</td>\n",
       "      <td>409</td>\n",
       "      <td>859</td>\n",
       "      <td>87</td>\n",
       "      <td>357</td>\n",
       "      <td>399</td>\n",
       "      <td>...</td>\n",
       "      <td>257</td>\n",
       "      <td>791</td>\n",
       "      <td>156</td>\n",
       "      <td>199</td>\n",
       "      <td>1429</td>\n",
       "      <td>261</td>\n",
       "      <td>354</td>\n",
       "      <td>255</td>\n",
       "      <td>849</td>\n",
       "      <td>887</td>\n",
       "    </tr>\n",
       "  </tbody>\n",
       "</table>\n",
       "<p>5 rows × 60 columns</p>\n",
       "</div>"
      ],
      "text/plain": [
       "             0      1     2     3     4     5     6      7     8     9   ...  \\\n",
       "anise      1453  11100  4600  6130  8434  9249  2232  10746  4745  2764  ...   \n",
       "apricot     944     14  1591   142   372   568  1374    154   582   651  ...   \n",
       "artichoke   883    155   278   720    23   175    15    206   560   937  ...   \n",
       "arugula     228     35    69   158     9    44     2     48   115   231  ...   \n",
       "asparagus   608      5  1065    89   262   409   859     87   357   399  ...   \n",
       "\n",
       "             50    51     52    53    54    55    56    57    58    59  \n",
       "anise      2859   715  10075  1816   196  3506  3454  3576  6269   835  \n",
       "apricot     375  1257    217   300  2250   460   578   415  1330  1387  \n",
       "artichoke   922   395    122   557   465   400   512   825    27   609  \n",
       "arugula     198    94     44   135   105    84   114   167     3   134  \n",
       "asparagus   257   791    156   199  1429   261   354   255   849   887  \n",
       "\n",
       "[5 rows x 60 columns]"
      ]
     },
     "execution_count": 3,
     "metadata": {},
     "output_type": "execute_result"
    }
   ],
   "source": [
    "data.head()"
   ]
  },
  {
   "cell_type": "markdown",
   "metadata": {},
   "source": [
    "## 1. write a script that simulates positive control data"
   ]
  },
  {
   "cell_type": "code",
   "execution_count": 4,
   "metadata": {},
   "outputs": [],
   "source": [
    "def gen_data(N=100,M=60,R=3,C=100000,ML=2):\n",
    "    '''\n",
    "    N is the number of genes\n",
    "    M is the number of samples(cells)\n",
    "    R os the number of modules\n",
    "    C is the \"expected\" number of reads per sample\n",
    "    ML is the number of moonlighting genes\n",
    "    generates and returns expected read counts given weights and mixture coefficient parameters\n",
    "    '''\n",
    "    # gene-module matrix\n",
    "    W = np.zeros((N,R))\n",
    "    # randomly choose which genes are moonlighting\n",
    "    ML_genes = np.random.choice(range(0,N),size=ML,replace=False)\n",
    "    # assign genes to modules\n",
    "    for idx, gene in enumerate(W):\n",
    "        if idx in ML_genes:\n",
    "            mod = np.random.choice(range(0,R),size=2,replace=False)\n",
    "            gene[mod[0]] = 1\n",
    "            gene[mod[1]] = 1\n",
    "        else:\n",
    "            mod = np.random.choice(range(0,R),size=1)\n",
    "            gene[mod] = 1\n",
    "    # normalize so each module sums to 1\n",
    "    W = W/np.sum(W,axis=0)\n",
    "    \n",
    "    # module-cell matrix\n",
    "    H = np.ones((R,M))\n",
    "    for cell in range(M):\n",
    "        H[:,cell] = np.random.dirichlet(H[:,cell])\n",
    "    \n",
    "    # calculate lambda, expected counts\n",
    "    C_total = np.array([C]*M)\n",
    "    lamb = (W@H) * C_total\n",
    "    # incorporate poisson noise\n",
    "    V = np.random.poisson(lamb)\n",
    "    \n",
    "    return V,W,H"
   ]
  },
  {
   "cell_type": "code",
   "execution_count": 5,
   "metadata": {},
   "outputs": [],
   "source": [
    "def log_likelihood(V,W,H):\n",
    "    '''\n",
    "    Given W(gene-module probability matrix) and H (module-cell probability matrix), \n",
    "    return log likelihood of V (read counts matrix) based on Poisson noise, \n",
    "    calculated without constant log(V!) term\n",
    "    '''\n",
    "    # calculate lambda, expected counts\n",
    "    C_total = np.sum(V,axis=0)\n",
    "    lamb = (W@H) * C_total\n",
    "    # calculate LL\n",
    "    ll = np.sum(V*np.log(lamb)-lamb)\n",
    "    return ll"
   ]
  },
  {
   "cell_type": "markdown",
   "metadata": {},
   "source": [
    "Note that in the log likelihood calculations, the constant factorial term is ignored since it is uniform within one condition. Therefore, the true vs random comparisons in part 1 and the number of modules vs log likelihood plots in parts 2 and 3 are still valid with an uniform likelihood offset. We just need to pay attention to the differences rather than the raw values."
   ]
  },
  {
   "cell_type": "code",
   "execution_count": 6,
   "metadata": {
    "scrolled": false
   },
   "outputs": [
    {
     "name": "stdout",
     "output_type": "stream",
     "text": [
      "log likelihood of V given true W,H: 37150489.39926867\n"
     ]
    }
   ],
   "source": [
    "# generate synthetic data\n",
    "np.random.seed(5)\n",
    "V,W,H = gen_data(N=100,M=60,R=3,C=100000,ML=2)\n",
    "\n",
    "# calculate log likelihood of sythetic data given true parameters\n",
    "print(\"log likelihood of V given true W,H:\",log_likelihood(V,W,H))"
   ]
  },
  {
   "cell_type": "code",
   "execution_count": 7,
   "metadata": {},
   "outputs": [
    {
     "name": "stdout",
     "output_type": "stream",
     "text": [
      "log likelihood of V given random W,H: 34168874.53002933\n"
     ]
    }
   ],
   "source": [
    "# calculate log likelihood of sythetic data given random parameters\n",
    "W_rand = np.ones((100,3))\n",
    "for cell in range(3):\n",
    "    W_rand[:,cell] = np.random.dirichlet(W_rand[:,cell])\n",
    "H_rand = np.ones((3,60))\n",
    "for cell in range(60):\n",
    "    H_rand[:,cell] = np.random.dirichlet(H_rand[:,cell])\n",
    "print(\"log likelihood of V given random W,H:\",log_likelihood(V,W_rand,H_rand))"
   ]
  },
  {
   "cell_type": "markdown",
   "metadata": {},
   "source": [
    "As expected, the log likelihood of the synthetic data(V) given the true parameters (W,H) is much higher than the data given random parameters. Let's generate more synthetic data (V2) with more underlying modules."
   ]
  },
  {
   "cell_type": "code",
   "execution_count": 8,
   "metadata": {},
   "outputs": [
    {
     "name": "stdout",
     "output_type": "stream",
     "text": [
      "log likelihood of V2 given true W2,H2: 37410645.74309559\n",
      "log likelihood of V2 given random W,H: 34171131.66354009\n"
     ]
    }
   ],
   "source": [
    "# generate more synthetic data, increase R\n",
    "np.random.seed(5)\n",
    "V2,W2,H2 = gen_data(N=100,M=60,R=5,C=100000,ML=2)\n",
    "# random W and H\n",
    "W_rand = np.ones((100,5))\n",
    "for cell in range(5):\n",
    "    W_rand[:,cell] = np.random.dirichlet(W_rand[:,cell])\n",
    "H_rand = np.ones((5,60))\n",
    "for cell in range(60):\n",
    "    H_rand[:,cell] = np.random.dirichlet(H_rand[:,cell])\n",
    "print(\"log likelihood of V2 given true W2,H2:\",log_likelihood(V2,W2,H2))\n",
    "print(\"log likelihood of V2 given random W,H:\", log_likelihood(V2,W_rand,H_rand))"
   ]
  },
  {
   "cell_type": "markdown",
   "metadata": {},
   "source": [
    "As expected, the log likelihood of the synthetic data with more underlying modules(V2) given the true parameters (W2,H2) is still much higher than the data given random parameters. Let's generate a final set of synthetic data (V3) with more moonlighting genes."
   ]
  },
  {
   "cell_type": "code",
   "execution_count": 9,
   "metadata": {},
   "outputs": [
    {
     "name": "stdout",
     "output_type": "stream",
     "text": [
      "log likelihood of V3 given true W3,H3: 36945422.64927184\n",
      "log likelihood of V3 given random W,H: 34104317.37123056\n"
     ]
    }
   ],
   "source": [
    "# generate more synthetic data, increase number ML\n",
    "np.random.seed(5)\n",
    "V3,W3,H3 = gen_data(N=100,M=60,R=3,C=100000,ML=5)\n",
    "# random W and H\n",
    "W_rand = np.ones((100,3))\n",
    "for cell in range(3):\n",
    "    W_rand[:,cell] = np.random.dirichlet(W_rand[:,cell])\n",
    "H_rand = np.ones((3,60))\n",
    "for cell in range(60):\n",
    "    H_rand[:,cell] = np.random.dirichlet(H_rand[:,cell])\n",
    "print(\"log likelihood of V3 given true W3,H3:\",log_likelihood(V3,W3,H3))\n",
    "print(\"log likelihood of V3 given random W,H:\", log_likelihood(V3,W_rand,H_rand))"
   ]
  },
  {
   "cell_type": "markdown",
   "metadata": {},
   "source": [
    "As expected, the log likelihood of the synthetic data with more moonlighting genes(V3) given the true parameters (W3,H3) is still much higher than the data given random parameters. Comparing the log likelihoods, the gen_data and log_likelihood functions are working as expected."
   ]
  },
  {
   "cell_type": "markdown",
   "metadata": {},
   "source": [
    "## 2. implement nonnegative matrix factorization"
   ]
  },
  {
   "cell_type": "code",
   "execution_count": 10,
   "metadata": {},
   "outputs": [],
   "source": [
    "def nmf(V,R,thresh=0.0001):\n",
    "    '''\n",
    "    R is the number of intermediate modules to decompose V  (read counts matrix, NxM) into:\n",
    "    W (gene-module probability matrix, NxR) \n",
    "    and H (module-cell probability matrix, RxM), all values in W and H are nonnegative\n",
    "    Thresh is used to assess log likelihood convergence\n",
    "    '''\n",
    "    # randomly initialize W and H \n",
    "    N = np.shape(V)[0]\n",
    "    M = np.shape(V)[1]\n",
    "    W = np.ones((N,R))\n",
    "    H = np.ones((R,M))\n",
    "    # normalize W and H\n",
    "    for mod in range(R):\n",
    "        W[:,mod] = np.random.dirichlet(W[:,mod])\n",
    "    for cell in range(M):\n",
    "        H[:,cell] = np.random.dirichlet(H[:,cell])\n",
    "    \n",
    "    LL = 0\n",
    "    old_LL = float(\"inf\")\n",
    "    while abs(old_LL - LL) > thresh:\n",
    "        # update old_LL\n",
    "        old_LL = LL\n",
    "        \n",
    "        # calculate lambda\n",
    "        C_total = np.sum(V,axis=0)\n",
    "        lamb = (W@H) * C_total\n",
    "        \n",
    "        # calculate log likelihood\n",
    "        LL = log_likelihood(V,W,H)\n",
    "        \n",
    "        # update W and H\n",
    "        W *= (V*C_total/lamb) @ H.T\n",
    "        W /= np.sum(W,axis=0)\n",
    "        H *= ((V.T/lamb.T) @ W).T\n",
    "    \n",
    "    # Given W matrix, predict gene-module relationships\n",
    "    # make W sparse to assign gene-module predictions with a probability cutoff determined empirically\n",
    "    for i in range(N):\n",
    "        for j in range(R):\n",
    "            if W[i][j] < 0.0034: # throw out noise, most likely noise, this cutoff gave best result for synth data\n",
    "                W[i][j] = 0\n",
    "    W /= np.sum(W,axis=0)\n",
    "        \n",
    "    return W,H,LL"
   ]
  },
  {
   "cell_type": "markdown",
   "metadata": {},
   "source": [
    "In our nmf method above, there is a cutoff probability that is used to remove noise (very low relative expression levels) from the final gene-module W matrix. This was done to remove ambiguity when predicting gene-module relationships. The specific value for this cutoff was trained with the multiple synthetic datasets with varied parameters demonstrated below. The final cutoff value of 0.0034 gave perfect predictions of gene-module relationships and moonlighting genes for the synthetic training data. I will explore the nuances of this value further in part 3"
   ]
  },
  {
   "cell_type": "markdown",
   "metadata": {},
   "source": [
    "Knowing the true batteries and moonlighting genes, let's see how well our nmf model predicts these values given gene-cell matrix (V). The true R here is 3."
   ]
  },
  {
   "cell_type": "code",
   "execution_count": 11,
   "metadata": {
    "scrolled": false
   },
   "outputs": [],
   "source": [
    "# simulate different guesses of modules 1-6, might take awhile to run\n",
    "LLs = []\n",
    "for i in range(1,7):\n",
    "    np.random.seed(5)\n",
    "    W_pred,H_pred,LL = nmf(V,i)\n",
    "    LLs.append(LL)"
   ]
  },
  {
   "cell_type": "code",
   "execution_count": 12,
   "metadata": {
    "scrolled": false
   },
   "outputs": [
    {
     "data": {
      "image/png": "[encoded data removed]",
      "text/plain": [
       "<Figure size 432x288 with 1 Axes>"
      ]
     },
     "metadata": {
      "needs_background": "light"
     },
     "output_type": "display_data"
    }
   ],
   "source": [
    "# plot R vs LL\n",
    "plt.plot(range(1,7),LLs)\n",
    "plt.xlabel('number of modules')\n",
    "plt.ylabel('log likelihood')\n",
    "plt.show()"
   ]
  },
  {
   "cell_type": "markdown",
   "metadata": {},
   "source": [
    "The module-likelihood elbow curve above gives us an idea on how much power is \"gained\" as we increase the complexity of our model, which is the number of modules R in this case. We see that there is not much power gained as R increases past 3, suggesting that we may overfit the model if we select larger number of modules without gaining much power. While a more robust Bayesian marginalization method can decisively help us conclude the best R to fit our data, selecting the elbow of the curve gives us a reliable enough prediction of R for this problem."
   ]
  },
  {
   "cell_type": "code",
   "execution_count": 13,
   "metadata": {},
   "outputs": [],
   "source": [
    "# go with R = 3\n",
    "np.random.seed(5)\n",
    "W_pred,H_pred,LL = nmf(V,3)"
   ]
  },
  {
   "cell_type": "code",
   "execution_count": 14,
   "metadata": {},
   "outputs": [],
   "source": [
    "def make_battery(W):\n",
    "    '''\n",
    "    Given W (gene-module probability matrix, NxR), create a set of R lists, where each list\n",
    "    includes gene indexes for genes that are influenced by the same module\n",
    "    '''\n",
    "    R = np.shape(W)[1]\n",
    "    battery = []\n",
    "    for mod in range(R):\n",
    "        genes = []\n",
    "        for idx, gene in enumerate(W):\n",
    "            if gene[mod] > 0:\n",
    "                genes.append(idx)\n",
    "        battery.append(sorted(genes))\n",
    "    return battery"
   ]
  },
  {
   "cell_type": "code",
   "execution_count": 15,
   "metadata": {},
   "outputs": [],
   "source": [
    "# check that the predicted gene-module assignments are same as the real assignments\n",
    "pred_battery = make_battery(W_pred)\n",
    "actual_battery = make_battery(W)\n",
    "for i in range(np.shape(pred_battery)[0]):\n",
    "    assert pred_battery[i] in actual_battery"
   ]
  },
  {
   "cell_type": "code",
   "execution_count": 16,
   "metadata": {},
   "outputs": [],
   "source": [
    "def moonlight(battery):\n",
    "    '''\n",
    "    Given gene-module assignments, where each list contains gene indexes for genes that are influenced by the same module\n",
    "    return gene indexes of genes that show up across multiple modules, which are moonlighting genes\n",
    "    '''\n",
    "    ML = set()\n",
    "    exist = set()\n",
    "    for i in battery:\n",
    "        for j in i:\n",
    "            if j in exist:\n",
    "                ML.add(j)\n",
    "            else:\n",
    "                exist.add(j)\n",
    "    return sorted(ML)"
   ]
  },
  {
   "cell_type": "code",
   "execution_count": 17,
   "metadata": {
    "scrolled": true
   },
   "outputs": [],
   "source": [
    "# check moonlighting genes\n",
    "assert moonlight(pred_battery) == moonlight(actual_battery)"
   ]
  },
  {
   "cell_type": "markdown",
   "metadata": {},
   "source": [
    "Our nmf model perfectly predicts our batteries and moonlighting genes given V compared to the true W and H. Let's check how well we predict on the V2 dataset, where the true R is increased to 5, and the true number of moonlight genes is 2."
   ]
  },
  {
   "cell_type": "code",
   "execution_count": 18,
   "metadata": {},
   "outputs": [
    {
     "data": {
      "image/png": "[encoded data removed]",
      "text/plain": [
       "<Figure size 432x288 with 1 Axes>"
      ]
     },
     "metadata": {
      "needs_background": "light"
     },
     "output_type": "display_data"
    }
   ],
   "source": [
    "# simulate different guesses of modules 1-6, might take awhile to run\n",
    "LLs = []\n",
    "for i in range(1,7):\n",
    "    np.random.seed(5)\n",
    "    W_pred,H_pred,LL = nmf(V2,i)\n",
    "    LLs.append(LL)\n",
    "    \n",
    "# plot R vs LL\n",
    "plt.plot(range(1,7),LLs)\n",
    "plt.xlabel('number of modules')\n",
    "plt.ylabel('log likelihood')\n",
    "plt.show()"
   ]
  },
  {
   "cell_type": "code",
   "execution_count": 19,
   "metadata": {},
   "outputs": [],
   "source": [
    "# go with R = 5\n",
    "np.random.seed(5)\n",
    "W_pred,H_pred,LL = nmf(V2,5)\n",
    "\n",
    "# check that the predicted gene-module assignments are same as the real assignments\n",
    "pred_battery = make_battery(W_pred)\n",
    "actual_battery = make_battery(W2)\n",
    "\n",
    "for i in range(np.shape(pred_battery)[0]):\n",
    "      assert pred_battery[i] in actual_battery\n",
    "\n",
    "\n",
    "# check moonlighting genes\n",
    "assert moonlight(pred_battery) == moonlight(actual_battery)"
   ]
  },
  {
   "cell_type": "markdown",
   "metadata": {},
   "source": [
    "Again, our nmf model perfectly predicts our batteries and moonlighting genes given V2 compared to the true W2 and H2. Let's check how well we predict on the V3 dataset, where the true R is 3, and the true number of moonlight genes is increased to 5."
   ]
  },
  {
   "cell_type": "code",
   "execution_count": 20,
   "metadata": {},
   "outputs": [
    {
     "data": {
      "image/png": "[encoded data removed]",
      "text/plain": [
       "<Figure size 432x288 with 1 Axes>"
      ]
     },
     "metadata": {
      "needs_background": "light"
     },
     "output_type": "display_data"
    }
   ],
   "source": [
    "# simulate different guesses of modules 1-6, might take awhile to run\n",
    "LLs = []\n",
    "for i in range(1,7):\n",
    "    np.random.seed(5)\n",
    "    W_pred,H_pred,LL = nmf(V3,i)\n",
    "    LLs.append(LL)\n",
    "    \n",
    "# plot R vs LL\n",
    "plt.plot(range(1,7),LLs)\n",
    "plt.xlabel('number of modules')\n",
    "plt.ylabel('log likelihood')\n",
    "plt.show()"
   ]
  },
  {
   "cell_type": "code",
   "execution_count": 21,
   "metadata": {},
   "outputs": [],
   "source": [
    "# go with R = 3\n",
    "np.random.seed(5)\n",
    "W_pred,H_pred,LL = nmf(V3,3)\n",
    "\n",
    "# check that the predicted gene-module assignments are same as the real assignments\n",
    "pred_battery = make_battery(W_pred)\n",
    "actual_battery = make_battery(W3)\n",
    "\n",
    "for i in range(np.shape(pred_battery)[0]):\n",
    "     assert pred_battery[i] in actual_battery\n",
    "\n",
    "# check moonlighting genes\n",
    "assert moonlight(pred_battery) == moonlight(actual_battery)"
   ]
  },
  {
   "cell_type": "markdown",
   "metadata": {},
   "source": [
    "Again, our nmf model perfectly predicts our batteries and moonlighting genes given V3 compared to the true W3 and H3. With these training datasets, our nmf model with the selected cutoff hyperparameter predicts the batteries and moonlighting genes well. A more robust training with separate train and validation datasets on the nmf model may help us tune the cutoff hyperparameter better to prevent overfitting and lower model variance. I also tried different random initializations to get closer to the global optima and other V-W-H matrices with different parameters to test model variance. They are not shown here due to time complexity, but I achieved a high accuracy on all these trials as well. More robust hyperparameter tuning and more efficient implementation to lower runtime are both areas of improvement for the future."
   ]
  },
  {
   "cell_type": "markdown",
   "metadata": {},
   "source": [
    "## 3. analyze the Adler data"
   ]
  },
  {
   "cell_type": "markdown",
   "metadata": {},
   "source": [
    "Let's predict the batteries and the moonlighting genes given Adler's RNA-seq data using our nmf model."
   ]
  },
  {
   "cell_type": "code",
   "execution_count": 22,
   "metadata": {},
   "outputs": [],
   "source": [
    "gene_names = data.index # save gene names\n",
    "adler_V = np.array(data.values.tolist()) # turn df into 2D np array"
   ]
  },
  {
   "cell_type": "code",
   "execution_count": 23,
   "metadata": {
    "scrolled": true
   },
   "outputs": [],
   "source": [
    "# simulate different guesses of modules 3-6, might take awhile to run\n",
    "adler_LLs = []\n",
    "for i in range(3,7):\n",
    "    np.random.seed(22)\n",
    "    adler_W,adler_H,LL = nmf(adler_V,i)\n",
    "    adler_LLs.append(LL)"
   ]
  },
  {
   "cell_type": "code",
   "execution_count": 24,
   "metadata": {
    "scrolled": false
   },
   "outputs": [
    {
     "data": {
      "image/png": "[encoded data removed]",
      "text/plain": [
       "<Figure size 432x288 with 1 Axes>"
      ]
     },
     "metadata": {
      "needs_background": "light"
     },
     "output_type": "display_data"
    }
   ],
   "source": [
    "# plot R vs LL\n",
    "plt.plot(range(3,7),adler_LLs)\n",
    "plt.xlabel('number of modules')\n",
    "plt.ylabel('log likelihood')\n",
    "plt.show()"
   ]
  },
  {
   "cell_type": "markdown",
   "metadata": {},
   "source": [
    "Given the elbow curve, I predict that there are 4 gene batteries. See elbow curve interpretation in part 2 for detailed explanation."
   ]
  },
  {
   "cell_type": "code",
   "execution_count": 25,
   "metadata": {},
   "outputs": [],
   "source": [
    "# go with R = 4\n",
    "np.random.seed(6)\n",
    "adler_W,adler_H,LL = nmf(adler_V,4)"
   ]
  },
  {
   "cell_type": "code",
   "execution_count": 26,
   "metadata": {
    "scrolled": true
   },
   "outputs": [
    {
     "name": "stdout",
     "output_type": "stream",
     "text": [
      "Here are the predicted total number of genes and the predicted gene names in each battery:\n",
      "battery 1 ( 18 genes):  ['anise' 'cantaloupe' 'cranberry' 'grape' 'kohlrabi' 'leek' 'lentil'\n",
      " 'melon' 'orange' 'papaya' 'parsley' 'pepper' 'plantain' 'pomegranate'\n",
      " 'scallion' 'watermelon' 'yam' 'zucchini']\n",
      "\n",
      "battery 2 ( 37 genes):  ['artichoke' 'avocado' 'banana' 'beet' 'blackberry' 'broccoli' 'caraway'\n",
      " 'chard' 'cucumber' 'elderberry' 'ginger' 'grapefruit' 'guava' 'honeydew'\n",
      " 'horseradish' 'juniper' 'kiwi' 'lime' 'maize' 'mustard' 'okra' 'parsnip'\n",
      " 'peach' 'pineapple' 'potato' 'quince' 'raisin' 'raspberry' 'rosemary'\n",
      " 'rutabaga' 'sage' 'spinach' 'strawberry' 'thyme' 'tomato' 'wasabi'\n",
      " 'watercress']\n",
      "\n",
      "battery 3 ( 19 genes):  ['basil' 'butternut' 'cabbage' 'celery' 'chard' 'cherry' 'fennel' 'garlic'\n",
      " 'huckleberry' 'mulberry' 'mushroom' 'nectarine' 'olive' 'pear' 'plum'\n",
      " 'pumpkin' 'raspberry' 'rhubarb' 'tangerine']\n",
      "\n",
      "battery 4 ( 20 genes):  ['apricot' 'asparagus' 'blueberry' 'carrot' 'cauliflower' 'cayenne'\n",
      " 'chickpea' 'clementine' 'coconut' 'coriander' 'endive' 'grape' 'kohlrabi'\n",
      " 'lavender' 'mango' 'onion' 'pea' 'pepper' 'persimmon' 'tamarind']\n",
      "\n"
     ]
    }
   ],
   "source": [
    "adler_battery = make_battery(adler_W)\n",
    "print(\"Here are the predicted total number of genes and the predicted gene names in each battery:\") \n",
    "for i, battery in enumerate(adler_battery):\n",
    "    print(\"battery\", i+1, \"(\", len(battery), \"genes): \", np.array(gene_names)[battery])\n",
    "    print(\"\")"
   ]
  },
  {
   "cell_type": "code",
   "execution_count": 27,
   "metadata": {
    "scrolled": true
   },
   "outputs": [
    {
     "name": "stdout",
     "output_type": "stream",
     "text": [
      "Predicted Adler's moonlighting genes:  ['chard' 'grape' 'kohlrabi' 'pepper' 'raspberry']\n"
     ]
    }
   ],
   "source": [
    "ML_index = list(moonlight(adler_battery))\n",
    "print(\"Predicted Adler's moonlighting genes: \", np.array(gene_names)[ML_index])"
   ]
  },
  {
   "cell_type": "markdown",
   "metadata": {},
   "source": [
    "The gene battery and moonlighting genes predictions from my model are shown above. I noticed that there are genes given in the dataset not placed in any batteries. Let's explore this further."
   ]
  },
  {
   "cell_type": "code",
   "execution_count": 28,
   "metadata": {},
   "outputs": [
    {
     "data": {
      "text/html": [
       "<div>\n",
       "<style scoped>\n",
       "    .dataframe tbody tr th:only-of-type {\n",
       "        vertical-align: middle;\n",
       "    }\n",
       "\n",
       "    .dataframe tbody tr th {\n",
       "        vertical-align: top;\n",
       "    }\n",
       "\n",
       "    .dataframe thead th {\n",
       "        text-align: right;\n",
       "    }\n",
       "</style>\n",
       "<table border=\"1\" class=\"dataframe\">\n",
       "  <thead>\n",
       "    <tr style=\"text-align: right;\">\n",
       "      <th></th>\n",
       "      <th>0</th>\n",
       "      <th>1</th>\n",
       "      <th>2</th>\n",
       "      <th>3</th>\n",
       "      <th>4</th>\n",
       "      <th>5</th>\n",
       "      <th>6</th>\n",
       "      <th>7</th>\n",
       "      <th>8</th>\n",
       "      <th>9</th>\n",
       "      <th>...</th>\n",
       "      <th>50</th>\n",
       "      <th>51</th>\n",
       "      <th>52</th>\n",
       "      <th>53</th>\n",
       "      <th>54</th>\n",
       "      <th>55</th>\n",
       "      <th>56</th>\n",
       "      <th>57</th>\n",
       "      <th>58</th>\n",
       "      <th>59</th>\n",
       "    </tr>\n",
       "  </thead>\n",
       "  <tbody>\n",
       "    <tr>\n",
       "      <th>arugula</th>\n",
       "      <td>228</td>\n",
       "      <td>35</td>\n",
       "      <td>69</td>\n",
       "      <td>158</td>\n",
       "      <td>9</td>\n",
       "      <td>44</td>\n",
       "      <td>2</td>\n",
       "      <td>48</td>\n",
       "      <td>115</td>\n",
       "      <td>231</td>\n",
       "      <td>...</td>\n",
       "      <td>198</td>\n",
       "      <td>94</td>\n",
       "      <td>44</td>\n",
       "      <td>135</td>\n",
       "      <td>105</td>\n",
       "      <td>84</td>\n",
       "      <td>114</td>\n",
       "      <td>167</td>\n",
       "      <td>3</td>\n",
       "      <td>134</td>\n",
       "    </tr>\n",
       "    <tr>\n",
       "      <th>chestnut</th>\n",
       "      <td>1</td>\n",
       "      <td>20</td>\n",
       "      <td>14</td>\n",
       "      <td>6</td>\n",
       "      <td>23</td>\n",
       "      <td>16</td>\n",
       "      <td>4</td>\n",
       "      <td>20</td>\n",
       "      <td>13</td>\n",
       "      <td>7</td>\n",
       "      <td>...</td>\n",
       "      <td>6</td>\n",
       "      <td>1</td>\n",
       "      <td>22</td>\n",
       "      <td>4</td>\n",
       "      <td>0</td>\n",
       "      <td>9</td>\n",
       "      <td>8</td>\n",
       "      <td>6</td>\n",
       "      <td>5</td>\n",
       "      <td>0</td>\n",
       "    </tr>\n",
       "    <tr>\n",
       "      <th>cilantro</th>\n",
       "      <td>158</td>\n",
       "      <td>20</td>\n",
       "      <td>33</td>\n",
       "      <td>134</td>\n",
       "      <td>2</td>\n",
       "      <td>33</td>\n",
       "      <td>5</td>\n",
       "      <td>39</td>\n",
       "      <td>101</td>\n",
       "      <td>144</td>\n",
       "      <td>...</td>\n",
       "      <td>165</td>\n",
       "      <td>86</td>\n",
       "      <td>27</td>\n",
       "      <td>90</td>\n",
       "      <td>82</td>\n",
       "      <td>73</td>\n",
       "      <td>86</td>\n",
       "      <td>152</td>\n",
       "      <td>7</td>\n",
       "      <td>112</td>\n",
       "    </tr>\n",
       "    <tr>\n",
       "      <th>currant</th>\n",
       "      <td>119</td>\n",
       "      <td>23</td>\n",
       "      <td>43</td>\n",
       "      <td>77</td>\n",
       "      <td>4</td>\n",
       "      <td>17</td>\n",
       "      <td>4</td>\n",
       "      <td>29</td>\n",
       "      <td>67</td>\n",
       "      <td>134</td>\n",
       "      <td>...</td>\n",
       "      <td>116</td>\n",
       "      <td>39</td>\n",
       "      <td>27</td>\n",
       "      <td>69</td>\n",
       "      <td>55</td>\n",
       "      <td>49</td>\n",
       "      <td>61</td>\n",
       "      <td>117</td>\n",
       "      <td>5</td>\n",
       "      <td>75</td>\n",
       "    </tr>\n",
       "    <tr>\n",
       "      <th>eggplant</th>\n",
       "      <td>187</td>\n",
       "      <td>32</td>\n",
       "      <td>61</td>\n",
       "      <td>140</td>\n",
       "      <td>7</td>\n",
       "      <td>35</td>\n",
       "      <td>5</td>\n",
       "      <td>32</td>\n",
       "      <td>121</td>\n",
       "      <td>198</td>\n",
       "      <td>...</td>\n",
       "      <td>170</td>\n",
       "      <td>69</td>\n",
       "      <td>31</td>\n",
       "      <td>107</td>\n",
       "      <td>94</td>\n",
       "      <td>67</td>\n",
       "      <td>99</td>\n",
       "      <td>183</td>\n",
       "      <td>4</td>\n",
       "      <td>117</td>\n",
       "    </tr>\n",
       "    <tr>\n",
       "      <th>fig</th>\n",
       "      <td>16</td>\n",
       "      <td>158</td>\n",
       "      <td>81</td>\n",
       "      <td>99</td>\n",
       "      <td>139</td>\n",
       "      <td>145</td>\n",
       "      <td>30</td>\n",
       "      <td>166</td>\n",
       "      <td>82</td>\n",
       "      <td>55</td>\n",
       "      <td>...</td>\n",
       "      <td>41</td>\n",
       "      <td>9</td>\n",
       "      <td>177</td>\n",
       "      <td>32</td>\n",
       "      <td>2</td>\n",
       "      <td>52</td>\n",
       "      <td>61</td>\n",
       "      <td>54</td>\n",
       "      <td>98</td>\n",
       "      <td>11</td>\n",
       "    </tr>\n",
       "    <tr>\n",
       "      <th>gooseberry</th>\n",
       "      <td>55</td>\n",
       "      <td>8</td>\n",
       "      <td>16</td>\n",
       "      <td>42</td>\n",
       "      <td>2</td>\n",
       "      <td>8</td>\n",
       "      <td>1</td>\n",
       "      <td>6</td>\n",
       "      <td>21</td>\n",
       "      <td>51</td>\n",
       "      <td>...</td>\n",
       "      <td>40</td>\n",
       "      <td>21</td>\n",
       "      <td>2</td>\n",
       "      <td>30</td>\n",
       "      <td>21</td>\n",
       "      <td>19</td>\n",
       "      <td>40</td>\n",
       "      <td>28</td>\n",
       "      <td>2</td>\n",
       "      <td>24</td>\n",
       "    </tr>\n",
       "    <tr>\n",
       "      <th>lettuce</th>\n",
       "      <td>14</td>\n",
       "      <td>3</td>\n",
       "      <td>8</td>\n",
       "      <td>11</td>\n",
       "      <td>0</td>\n",
       "      <td>1</td>\n",
       "      <td>0</td>\n",
       "      <td>4</td>\n",
       "      <td>10</td>\n",
       "      <td>17</td>\n",
       "      <td>...</td>\n",
       "      <td>18</td>\n",
       "      <td>8</td>\n",
       "      <td>4</td>\n",
       "      <td>16</td>\n",
       "      <td>12</td>\n",
       "      <td>9</td>\n",
       "      <td>10</td>\n",
       "      <td>16</td>\n",
       "      <td>1</td>\n",
       "      <td>15</td>\n",
       "    </tr>\n",
       "    <tr>\n",
       "      <th>oregano</th>\n",
       "      <td>27</td>\n",
       "      <td>6</td>\n",
       "      <td>4</td>\n",
       "      <td>23</td>\n",
       "      <td>0</td>\n",
       "      <td>4</td>\n",
       "      <td>0</td>\n",
       "      <td>4</td>\n",
       "      <td>8</td>\n",
       "      <td>24</td>\n",
       "      <td>...</td>\n",
       "      <td>22</td>\n",
       "      <td>7</td>\n",
       "      <td>2</td>\n",
       "      <td>11</td>\n",
       "      <td>8</td>\n",
       "      <td>12</td>\n",
       "      <td>20</td>\n",
       "      <td>27</td>\n",
       "      <td>0</td>\n",
       "      <td>18</td>\n",
       "    </tr>\n",
       "    <tr>\n",
       "      <th>radish</th>\n",
       "      <td>10</td>\n",
       "      <td>30</td>\n",
       "      <td>17</td>\n",
       "      <td>23</td>\n",
       "      <td>90</td>\n",
       "      <td>20</td>\n",
       "      <td>131</td>\n",
       "      <td>45</td>\n",
       "      <td>43</td>\n",
       "      <td>4</td>\n",
       "      <td>...</td>\n",
       "      <td>6</td>\n",
       "      <td>85</td>\n",
       "      <td>27</td>\n",
       "      <td>62</td>\n",
       "      <td>18</td>\n",
       "      <td>86</td>\n",
       "      <td>85</td>\n",
       "      <td>51</td>\n",
       "      <td>66</td>\n",
       "      <td>59</td>\n",
       "    </tr>\n",
       "    <tr>\n",
       "      <th>turnip</th>\n",
       "      <td>3</td>\n",
       "      <td>0</td>\n",
       "      <td>0</td>\n",
       "      <td>3</td>\n",
       "      <td>1</td>\n",
       "      <td>2</td>\n",
       "      <td>0</td>\n",
       "      <td>2</td>\n",
       "      <td>7</td>\n",
       "      <td>6</td>\n",
       "      <td>...</td>\n",
       "      <td>3</td>\n",
       "      <td>2</td>\n",
       "      <td>2</td>\n",
       "      <td>3</td>\n",
       "      <td>2</td>\n",
       "      <td>0</td>\n",
       "      <td>1</td>\n",
       "      <td>5</td>\n",
       "      <td>0</td>\n",
       "      <td>1</td>\n",
       "    </tr>\n",
       "  </tbody>\n",
       "</table>\n",
       "<p>11 rows × 60 columns</p>\n",
       "</div>"
      ],
      "text/plain": [
       "             0    1   2    3    4    5    6    7    8    9   ...   50  51  \\\n",
       "arugula     228   35  69  158    9   44    2   48  115  231  ...  198  94   \n",
       "chestnut      1   20  14    6   23   16    4   20   13    7  ...    6   1   \n",
       "cilantro    158   20  33  134    2   33    5   39  101  144  ...  165  86   \n",
       "currant     119   23  43   77    4   17    4   29   67  134  ...  116  39   \n",
       "eggplant    187   32  61  140    7   35    5   32  121  198  ...  170  69   \n",
       "fig          16  158  81   99  139  145   30  166   82   55  ...   41   9   \n",
       "gooseberry   55    8  16   42    2    8    1    6   21   51  ...   40  21   \n",
       "lettuce      14    3   8   11    0    1    0    4   10   17  ...   18   8   \n",
       "oregano      27    6   4   23    0    4    0    4    8   24  ...   22   7   \n",
       "radish       10   30  17   23   90   20  131   45   43    4  ...    6  85   \n",
       "turnip        3    0   0    3    1    2    0    2    7    6  ...    3   2   \n",
       "\n",
       "             52   53   54  55   56   57  58   59  \n",
       "arugula      44  135  105  84  114  167   3  134  \n",
       "chestnut     22    4    0   9    8    6   5    0  \n",
       "cilantro     27   90   82  73   86  152   7  112  \n",
       "currant      27   69   55  49   61  117   5   75  \n",
       "eggplant     31  107   94  67   99  183   4  117  \n",
       "fig         177   32    2  52   61   54  98   11  \n",
       "gooseberry    2   30   21  19   40   28   2   24  \n",
       "lettuce       4   16   12   9   10   16   1   15  \n",
       "oregano       2   11    8  12   20   27   0   18  \n",
       "radish       27   62   18  86   85   51  66   59  \n",
       "turnip        2    3    2   0    1    5   0    1  \n",
       "\n",
       "[11 rows x 60 columns]"
      ]
     },
     "execution_count": 28,
     "metadata": {},
     "output_type": "execute_result"
    }
   ],
   "source": [
    "# find genes not in any battery, these genes have a row of zeros in W matrix\n",
    "zero_idx = []\n",
    "for idx, gene in enumerate(adler_W):\n",
    "    if sum(gene) == 0:\n",
    "        zero_idx.append(idx)\n",
    "data.iloc[zero_idx]"
   ]
  },
  {
   "cell_type": "markdown",
   "metadata": {},
   "source": [
    "It looks like all the genes that are not placed in batteries all have low read counts (<250 for all cells). They were all determined as noise by our cutoff hyperparameter when predicting the gene-module matrix W. A large cutoff value tends to exclude more genes in battery prediction, while a lower cutoff value would be able to place more genes in batteries but also predict many more moonlighting genes. This highlights the importance of cutoff hyperparameter tuning with varied synthetic training data to differentiate signal from noise. In machine learning, since we usually select  hyperparameters based on training/validation data, there is always a possibility that we overfit the model, which can lead to some prediction error in predicting Adler's test data here. Training our model on more dataset with varied parameters, selecting hyperparameters based on battery-moonlighting (sensitivity-specificity) tradeoffs, acquiring more data for genes with lower read counts, and implementing regression techniques to prevent overfitting are all possible avenues to improve our nmf model's prediction accuracy."
   ]
  }
 ],
 "metadata": {
  "kernelspec": {
   "display_name": "Python 3",
   "language": "python",
   "name": "python3"
  },
  "language_info": {
   "codemirror_mode": {
    "name": "ipython",
    "version": 3
   },
   "file_extension": ".py",
   "mimetype": "text/x-python",
   "name": "python",
   "nbconvert_exporter": "python",
   "pygments_lexer": "ipython3",
   "version": "3.6.8"
  }
 },
 "nbformat": 4,
 "nbformat_minor": 2
}
