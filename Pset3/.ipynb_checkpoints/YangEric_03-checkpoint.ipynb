{
 "cells": [
  {
   "cell_type": "markdown",
   "metadata": {},
   "source": [
    "# pset03: the adventure of the missing phenotype\n",
    "* Eric Yang\n",
    "* 09/27/2020"
   ]
  },
  {
   "cell_type": "code",
   "execution_count": 514,
   "metadata": {},
   "outputs": [],
   "source": [
    "import pandas as pd\n",
    "import numpy as np\n",
    "import math\n",
    "import seaborn as sns"
   ]
  },
  {
   "cell_type": "code",
   "execution_count": 515,
   "metadata": {},
   "outputs": [],
   "source": [
    "# Read in data\n",
    "RNA_data = pd.read_csv('w03-data.tbl', delim_whitespace=True, skiprows = 5,  header = None, \n",
    "                       names = ['gene_name','wt1-F','wt2-M','wt3-F','wt4-F','wt5-M','wt6-F','wt7-M','wt8-M','wt9-F','wt10-M',\n",
    "                               'mut1-F','mut2-F','mut3-M','mut4-F','mut5-M','mut6-M','mut7-F','mut8-M','mut9-M','mut10-F'])\n",
    "\n",
    "# Convert numbers in dataset from string to numeric\n",
    "RNA_data.loc[:,'wt1-F':'mut10-F'] = RNA_data.loc[:,'wt1-F':'mut10-F'].apply(pd.to_numeric, errors='ignore')"
   ]
  },
  {
   "cell_type": "markdown",
   "metadata": {},
   "source": [
    "I hardcoded the column names for now to visualize the dataframe better, might change these later depending on need."
   ]
  },
  {
   "cell_type": "code",
   "execution_count": 516,
   "metadata": {},
   "outputs": [
    {
     "data": {
      "text/html": [
       "<div>\n",
       "<style scoped>\n",
       "    .dataframe tbody tr th:only-of-type {\n",
       "        vertical-align: middle;\n",
       "    }\n",
       "\n",
       "    .dataframe tbody tr th {\n",
       "        vertical-align: top;\n",
       "    }\n",
       "\n",
       "    .dataframe thead th {\n",
       "        text-align: right;\n",
       "    }\n",
       "</style>\n",
       "<table border=\"1\" class=\"dataframe\">\n",
       "  <thead>\n",
       "    <tr style=\"text-align: right;\">\n",
       "      <th></th>\n",
       "      <th>gene_name</th>\n",
       "      <th>wt1-F</th>\n",
       "      <th>wt2-M</th>\n",
       "      <th>wt3-F</th>\n",
       "      <th>wt4-F</th>\n",
       "      <th>wt5-M</th>\n",
       "      <th>wt6-F</th>\n",
       "      <th>wt7-M</th>\n",
       "      <th>wt8-M</th>\n",
       "      <th>wt9-F</th>\n",
       "      <th>...</th>\n",
       "      <th>mut1-F</th>\n",
       "      <th>mut2-F</th>\n",
       "      <th>mut3-M</th>\n",
       "      <th>mut4-F</th>\n",
       "      <th>mut5-M</th>\n",
       "      <th>mut6-M</th>\n",
       "      <th>mut7-F</th>\n",
       "      <th>mut8-M</th>\n",
       "      <th>mut9-M</th>\n",
       "      <th>mut10-F</th>\n",
       "    </tr>\n",
       "  </thead>\n",
       "  <tbody>\n",
       "    <tr>\n",
       "      <th>0</th>\n",
       "      <td>anise</td>\n",
       "      <td>38.6</td>\n",
       "      <td>65.4</td>\n",
       "      <td>41.1</td>\n",
       "      <td>36.6</td>\n",
       "      <td>63.6</td>\n",
       "      <td>36.8</td>\n",
       "      <td>68.4</td>\n",
       "      <td>69.4</td>\n",
       "      <td>40.5</td>\n",
       "      <td>...</td>\n",
       "      <td>67.5</td>\n",
       "      <td>78.0</td>\n",
       "      <td>82.4</td>\n",
       "      <td>50.6</td>\n",
       "      <td>64.8</td>\n",
       "      <td>32.7</td>\n",
       "      <td>57.7</td>\n",
       "      <td>41.4</td>\n",
       "      <td>58.7</td>\n",
       "      <td>50.1</td>\n",
       "    </tr>\n",
       "    <tr>\n",
       "      <th>1</th>\n",
       "      <td>apricot</td>\n",
       "      <td>72.2</td>\n",
       "      <td>47.3</td>\n",
       "      <td>77.3</td>\n",
       "      <td>84.8</td>\n",
       "      <td>47.7</td>\n",
       "      <td>75.8</td>\n",
       "      <td>43.6</td>\n",
       "      <td>50.5</td>\n",
       "      <td>75.8</td>\n",
       "      <td>...</td>\n",
       "      <td>55.7</td>\n",
       "      <td>84.6</td>\n",
       "      <td>57.6</td>\n",
       "      <td>28.6</td>\n",
       "      <td>40.2</td>\n",
       "      <td>64.7</td>\n",
       "      <td>68.6</td>\n",
       "      <td>42.3</td>\n",
       "      <td>65.5</td>\n",
       "      <td>85.8</td>\n",
       "    </tr>\n",
       "    <tr>\n",
       "      <th>2</th>\n",
       "      <td>artichoke</td>\n",
       "      <td>76.6</td>\n",
       "      <td>46.5</td>\n",
       "      <td>78.9</td>\n",
       "      <td>76.2</td>\n",
       "      <td>47.3</td>\n",
       "      <td>72.9</td>\n",
       "      <td>48.2</td>\n",
       "      <td>47.6</td>\n",
       "      <td>73.4</td>\n",
       "      <td>...</td>\n",
       "      <td>59.4</td>\n",
       "      <td>57.3</td>\n",
       "      <td>80.1</td>\n",
       "      <td>40.9</td>\n",
       "      <td>44.0</td>\n",
       "      <td>51.6</td>\n",
       "      <td>53.6</td>\n",
       "      <td>55.8</td>\n",
       "      <td>59.3</td>\n",
       "      <td>74.2</td>\n",
       "    </tr>\n",
       "    <tr>\n",
       "      <th>3</th>\n",
       "      <td>arugula</td>\n",
       "      <td>29.4</td>\n",
       "      <td>56.6</td>\n",
       "      <td>30.8</td>\n",
       "      <td>30.8</td>\n",
       "      <td>56.1</td>\n",
       "      <td>29.7</td>\n",
       "      <td>55.9</td>\n",
       "      <td>56.3</td>\n",
       "      <td>31.5</td>\n",
       "      <td>...</td>\n",
       "      <td>25.9</td>\n",
       "      <td>43.5</td>\n",
       "      <td>57.2</td>\n",
       "      <td>66.7</td>\n",
       "      <td>44.0</td>\n",
       "      <td>35.5</td>\n",
       "      <td>52.9</td>\n",
       "      <td>30.5</td>\n",
       "      <td>62.2</td>\n",
       "      <td>25.5</td>\n",
       "    </tr>\n",
       "    <tr>\n",
       "      <th>4</th>\n",
       "      <td>asparagus</td>\n",
       "      <td>14.0</td>\n",
       "      <td>46.6</td>\n",
       "      <td>16.1</td>\n",
       "      <td>18.4</td>\n",
       "      <td>42.7</td>\n",
       "      <td>19.3</td>\n",
       "      <td>47.2</td>\n",
       "      <td>44.0</td>\n",
       "      <td>20.4</td>\n",
       "      <td>...</td>\n",
       "      <td>15.9</td>\n",
       "      <td>38.1</td>\n",
       "      <td>11.4</td>\n",
       "      <td>27.4</td>\n",
       "      <td>27.7</td>\n",
       "      <td>40.1</td>\n",
       "      <td>23.4</td>\n",
       "      <td>39.1</td>\n",
       "      <td>18.0</td>\n",
       "      <td>12.1</td>\n",
       "    </tr>\n",
       "  </tbody>\n",
       "</table>\n",
       "<p>5 rows × 21 columns</p>\n",
       "</div>"
      ],
      "text/plain": [
       "   gene_name wt1-F wt2-M wt3-F wt4-F wt5-M wt6-F wt7-M wt8-M wt9-F  ...  \\\n",
       "0      anise  38.6  65.4  41.1  36.6  63.6  36.8  68.4  69.4  40.5  ...   \n",
       "1    apricot  72.2  47.3  77.3  84.8  47.7  75.8  43.6  50.5  75.8  ...   \n",
       "2  artichoke  76.6  46.5  78.9  76.2  47.3  72.9  48.2  47.6  73.4  ...   \n",
       "3    arugula  29.4  56.6  30.8  30.8  56.1  29.7  55.9  56.3  31.5  ...   \n",
       "4  asparagus  14.0  46.6  16.1  18.4  42.7  19.3  47.2  44.0  20.4  ...   \n",
       "\n",
       "  mut1-F mut2-F mut3-M mut4-F mut5-M mut6-M mut7-F mut8-M mut9-M mut10-F  \n",
       "0   67.5   78.0   82.4   50.6   64.8   32.7   57.7   41.4   58.7    50.1  \n",
       "1   55.7   84.6   57.6   28.6   40.2   64.7   68.6   42.3   65.5    85.8  \n",
       "2   59.4   57.3   80.1   40.9   44.0   51.6   53.6   55.8   59.3    74.2  \n",
       "3   25.9   43.5   57.2   66.7   44.0   35.5   52.9   30.5   62.2    25.5  \n",
       "4   15.9   38.1   11.4   27.4   27.7   40.1   23.4   39.1   18.0    12.1  \n",
       "\n",
       "[5 rows x 21 columns]"
      ]
     },
     "execution_count": 516,
     "metadata": {},
     "output_type": "execute_result"
    }
   ],
   "source": [
    "RNA_data.head()"
   ]
  },
  {
   "cell_type": "markdown",
   "metadata": {},
   "source": [
    "1. downsample the data set by resevoir sampling"
   ]
  },
  {
   "cell_type": "code",
   "execution_count": 517,
   "metadata": {},
   "outputs": [],
   "source": [
    "def res_sample(df,m):\n",
    "    resevoir_names = []\n",
    "    k = 0\n",
    "    for idx, row in df.iterrows():\n",
    "        if k < m:\n",
    "            resevoir_names.append(row['gene_name'])\n",
    "        else:\n",
    "            roll = np.random.randint(k+1)\n",
    "            if roll < m:\n",
    "                resevoir_names[roll] = row['gene_name']\n",
    "        k += 1\n",
    "    return df.loc[df['gene_name'].isin(resevoir_names)]"
   ]
  },
  {
   "cell_type": "code",
   "execution_count": 518,
   "metadata": {},
   "outputs": [
    {
     "data": {
      "text/html": [
       "<div>\n",
       "<style scoped>\n",
       "    .dataframe tbody tr th:only-of-type {\n",
       "        vertical-align: middle;\n",
       "    }\n",
       "\n",
       "    .dataframe tbody tr th {\n",
       "        vertical-align: top;\n",
       "    }\n",
       "\n",
       "    .dataframe thead th {\n",
       "        text-align: right;\n",
       "    }\n",
       "</style>\n",
       "<table border=\"1\" class=\"dataframe\">\n",
       "  <thead>\n",
       "    <tr style=\"text-align: right;\">\n",
       "      <th></th>\n",
       "      <th>gene_name</th>\n",
       "      <th>wt1-F</th>\n",
       "      <th>wt2-M</th>\n",
       "      <th>wt3-F</th>\n",
       "      <th>wt4-F</th>\n",
       "      <th>wt5-M</th>\n",
       "      <th>wt6-F</th>\n",
       "      <th>wt7-M</th>\n",
       "      <th>wt8-M</th>\n",
       "      <th>wt9-F</th>\n",
       "      <th>...</th>\n",
       "      <th>mut1-F</th>\n",
       "      <th>mut2-F</th>\n",
       "      <th>mut3-M</th>\n",
       "      <th>mut4-F</th>\n",
       "      <th>mut5-M</th>\n",
       "      <th>mut6-M</th>\n",
       "      <th>mut7-F</th>\n",
       "      <th>mut8-M</th>\n",
       "      <th>mut9-M</th>\n",
       "      <th>mut10-F</th>\n",
       "    </tr>\n",
       "  </thead>\n",
       "  <tbody>\n",
       "    <tr>\n",
       "      <th>534</th>\n",
       "      <td>KHDRBS1</td>\n",
       "      <td>40.2</td>\n",
       "      <td>68.0</td>\n",
       "      <td>38.1</td>\n",
       "      <td>36.9</td>\n",
       "      <td>69.6</td>\n",
       "      <td>39.2</td>\n",
       "      <td>66.0</td>\n",
       "      <td>65.7</td>\n",
       "      <td>34.7</td>\n",
       "      <td>...</td>\n",
       "      <td>65.8</td>\n",
       "      <td>46.9</td>\n",
       "      <td>63.1</td>\n",
       "      <td>49.0</td>\n",
       "      <td>52.1</td>\n",
       "      <td>88.5</td>\n",
       "      <td>60.5</td>\n",
       "      <td>54.6</td>\n",
       "      <td>73.8</td>\n",
       "      <td>24.6</td>\n",
       "    </tr>\n",
       "    <tr>\n",
       "      <th>3369</th>\n",
       "      <td>OR6B3</td>\n",
       "      <td>41.8</td>\n",
       "      <td>68.6</td>\n",
       "      <td>44.8</td>\n",
       "      <td>41.4</td>\n",
       "      <td>72.1</td>\n",
       "      <td>45.2</td>\n",
       "      <td>72.6</td>\n",
       "      <td>72.5</td>\n",
       "      <td>41.2</td>\n",
       "      <td>...</td>\n",
       "      <td>50.8</td>\n",
       "      <td>64.4</td>\n",
       "      <td>70.2</td>\n",
       "      <td>55.5</td>\n",
       "      <td>55.1</td>\n",
       "      <td>60.3</td>\n",
       "      <td>75.6</td>\n",
       "      <td>39.9</td>\n",
       "      <td>75.2</td>\n",
       "      <td>46.7</td>\n",
       "    </tr>\n",
       "    <tr>\n",
       "      <th>3413</th>\n",
       "      <td>SETMAR</td>\n",
       "      <td>49.7</td>\n",
       "      <td>20.2</td>\n",
       "      <td>47.5</td>\n",
       "      <td>48.7</td>\n",
       "      <td>12.6</td>\n",
       "      <td>44.4</td>\n",
       "      <td>21.0</td>\n",
       "      <td>22.2</td>\n",
       "      <td>48.1</td>\n",
       "      <td>...</td>\n",
       "      <td>15.4</td>\n",
       "      <td>30.2</td>\n",
       "      <td>59.2</td>\n",
       "      <td>25.4</td>\n",
       "      <td>34.5</td>\n",
       "      <td>12.5</td>\n",
       "      <td>46.8</td>\n",
       "      <td>33.3</td>\n",
       "      <td>27.6</td>\n",
       "      <td>59.6</td>\n",
       "    </tr>\n",
       "    <tr>\n",
       "      <th>4153</th>\n",
       "      <td>ANAPC13</td>\n",
       "      <td>53.9</td>\n",
       "      <td>19.9</td>\n",
       "      <td>48.9</td>\n",
       "      <td>50.4</td>\n",
       "      <td>23.2</td>\n",
       "      <td>49.2</td>\n",
       "      <td>17.0</td>\n",
       "      <td>22.5</td>\n",
       "      <td>48.8</td>\n",
       "      <td>...</td>\n",
       "      <td>41.7</td>\n",
       "      <td>13.0</td>\n",
       "      <td>27.3</td>\n",
       "      <td>31.0</td>\n",
       "      <td>37.5</td>\n",
       "      <td>30.5</td>\n",
       "      <td>30.2</td>\n",
       "      <td>38.3</td>\n",
       "      <td>53.2</td>\n",
       "      <td>50.5</td>\n",
       "    </tr>\n",
       "    <tr>\n",
       "      <th>8628</th>\n",
       "      <td>CXorf56</td>\n",
       "      <td>44.1</td>\n",
       "      <td>77.5</td>\n",
       "      <td>45.2</td>\n",
       "      <td>47.2</td>\n",
       "      <td>72.9</td>\n",
       "      <td>45.0</td>\n",
       "      <td>78.4</td>\n",
       "      <td>72.0</td>\n",
       "      <td>43.6</td>\n",
       "      <td>...</td>\n",
       "      <td>67.3</td>\n",
       "      <td>53.6</td>\n",
       "      <td>65.3</td>\n",
       "      <td>45.5</td>\n",
       "      <td>61.5</td>\n",
       "      <td>68.8</td>\n",
       "      <td>55.1</td>\n",
       "      <td>70.4</td>\n",
       "      <td>87.4</td>\n",
       "      <td>54.5</td>\n",
       "    </tr>\n",
       "    <tr>\n",
       "      <th>9743</th>\n",
       "      <td>HINT2</td>\n",
       "      <td>53.5</td>\n",
       "      <td>29.0</td>\n",
       "      <td>57.5</td>\n",
       "      <td>54.7</td>\n",
       "      <td>28.2</td>\n",
       "      <td>56.3</td>\n",
       "      <td>25.2</td>\n",
       "      <td>23.6</td>\n",
       "      <td>54.6</td>\n",
       "      <td>...</td>\n",
       "      <td>17.3</td>\n",
       "      <td>15.3</td>\n",
       "      <td>54.9</td>\n",
       "      <td>58.0</td>\n",
       "      <td>12.3</td>\n",
       "      <td>26.8</td>\n",
       "      <td>42.6</td>\n",
       "      <td>45.4</td>\n",
       "      <td>25.1</td>\n",
       "      <td>31.1</td>\n",
       "    </tr>\n",
       "    <tr>\n",
       "      <th>10379</th>\n",
       "      <td>SLC25A22</td>\n",
       "      <td>56.6</td>\n",
       "      <td>26.4</td>\n",
       "      <td>58.8</td>\n",
       "      <td>62.4</td>\n",
       "      <td>32.0</td>\n",
       "      <td>61.1</td>\n",
       "      <td>30.2</td>\n",
       "      <td>31.1</td>\n",
       "      <td>60.2</td>\n",
       "      <td>...</td>\n",
       "      <td>54.6</td>\n",
       "      <td>53.8</td>\n",
       "      <td>50.6</td>\n",
       "      <td>58.6</td>\n",
       "      <td>24.9</td>\n",
       "      <td>54.0</td>\n",
       "      <td>53.8</td>\n",
       "      <td>56.6</td>\n",
       "      <td>49.1</td>\n",
       "      <td>37.5</td>\n",
       "    </tr>\n",
       "    <tr>\n",
       "      <th>11697</th>\n",
       "      <td>CUBN</td>\n",
       "      <td>17.9</td>\n",
       "      <td>48.2</td>\n",
       "      <td>16.1</td>\n",
       "      <td>16.9</td>\n",
       "      <td>44.9</td>\n",
       "      <td>16.8</td>\n",
       "      <td>45.9</td>\n",
       "      <td>46.3</td>\n",
       "      <td>18.3</td>\n",
       "      <td>...</td>\n",
       "      <td>60.6</td>\n",
       "      <td>29.7</td>\n",
       "      <td>34.5</td>\n",
       "      <td>0.0</td>\n",
       "      <td>7.1</td>\n",
       "      <td>28.2</td>\n",
       "      <td>43.5</td>\n",
       "      <td>12.8</td>\n",
       "      <td>37.7</td>\n",
       "      <td>58.4</td>\n",
       "    </tr>\n",
       "    <tr>\n",
       "      <th>14625</th>\n",
       "      <td>TPM1</td>\n",
       "      <td>86.9</td>\n",
       "      <td>58.1</td>\n",
       "      <td>86.9</td>\n",
       "      <td>83.6</td>\n",
       "      <td>55.2</td>\n",
       "      <td>86.1</td>\n",
       "      <td>54.0</td>\n",
       "      <td>59.5</td>\n",
       "      <td>84.4</td>\n",
       "      <td>...</td>\n",
       "      <td>62.4</td>\n",
       "      <td>46.2</td>\n",
       "      <td>44.4</td>\n",
       "      <td>66.9</td>\n",
       "      <td>73.6</td>\n",
       "      <td>69.0</td>\n",
       "      <td>81.4</td>\n",
       "      <td>85.3</td>\n",
       "      <td>90.3</td>\n",
       "      <td>78.7</td>\n",
       "    </tr>\n",
       "    <tr>\n",
       "      <th>16068</th>\n",
       "      <td>CENPV</td>\n",
       "      <td>21.8</td>\n",
       "      <td>49.6</td>\n",
       "      <td>19.4</td>\n",
       "      <td>21.9</td>\n",
       "      <td>50.2</td>\n",
       "      <td>21.4</td>\n",
       "      <td>51.2</td>\n",
       "      <td>49.7</td>\n",
       "      <td>17.8</td>\n",
       "      <td>...</td>\n",
       "      <td>55.6</td>\n",
       "      <td>21.0</td>\n",
       "      <td>71.7</td>\n",
       "      <td>43.8</td>\n",
       "      <td>32.6</td>\n",
       "      <td>21.1</td>\n",
       "      <td>45.1</td>\n",
       "      <td>0.0</td>\n",
       "      <td>37.5</td>\n",
       "      <td>18.5</td>\n",
       "    </tr>\n",
       "  </tbody>\n",
       "</table>\n",
       "<p>10 rows × 21 columns</p>\n",
       "</div>"
      ],
      "text/plain": [
       "      gene_name wt1-F wt2-M wt3-F wt4-F wt5-M wt6-F wt7-M wt8-M wt9-F  ...  \\\n",
       "534     KHDRBS1  40.2  68.0  38.1  36.9  69.6  39.2  66.0  65.7  34.7  ...   \n",
       "3369      OR6B3  41.8  68.6  44.8  41.4  72.1  45.2  72.6  72.5  41.2  ...   \n",
       "3413     SETMAR  49.7  20.2  47.5  48.7  12.6  44.4  21.0  22.2  48.1  ...   \n",
       "4153    ANAPC13  53.9  19.9  48.9  50.4  23.2  49.2  17.0  22.5  48.8  ...   \n",
       "8628    CXorf56  44.1  77.5  45.2  47.2  72.9  45.0  78.4  72.0  43.6  ...   \n",
       "9743      HINT2  53.5  29.0  57.5  54.7  28.2  56.3  25.2  23.6  54.6  ...   \n",
       "10379  SLC25A22  56.6  26.4  58.8  62.4  32.0  61.1  30.2  31.1  60.2  ...   \n",
       "11697      CUBN  17.9  48.2  16.1  16.9  44.9  16.8  45.9  46.3  18.3  ...   \n",
       "14625      TPM1  86.9  58.1  86.9  83.6  55.2  86.1  54.0  59.5  84.4  ...   \n",
       "16068     CENPV  21.8  49.6  19.4  21.9  50.2  21.4  51.2  49.7  17.8  ...   \n",
       "\n",
       "      mut1-F mut2-F mut3-M mut4-F mut5-M mut6-M mut7-F mut8-M mut9-M mut10-F  \n",
       "534     65.8   46.9   63.1   49.0   52.1   88.5   60.5   54.6   73.8    24.6  \n",
       "3369    50.8   64.4   70.2   55.5   55.1   60.3   75.6   39.9   75.2    46.7  \n",
       "3413    15.4   30.2   59.2   25.4   34.5   12.5   46.8   33.3   27.6    59.6  \n",
       "4153    41.7   13.0   27.3   31.0   37.5   30.5   30.2   38.3   53.2    50.5  \n",
       "8628    67.3   53.6   65.3   45.5   61.5   68.8   55.1   70.4   87.4    54.5  \n",
       "9743    17.3   15.3   54.9   58.0   12.3   26.8   42.6   45.4   25.1    31.1  \n",
       "10379   54.6   53.8   50.6   58.6   24.9   54.0   53.8   56.6   49.1    37.5  \n",
       "11697   60.6   29.7   34.5    0.0    7.1   28.2   43.5   12.8   37.7    58.4  \n",
       "14625   62.4   46.2   44.4   66.9   73.6   69.0   81.4   85.3   90.3    78.7  \n",
       "16068   55.6   21.0   71.7   43.8   32.6   21.1   45.1    0.0   37.5    18.5  \n",
       "\n",
       "[10 rows x 21 columns]"
      ]
     },
     "execution_count": 518,
     "metadata": {},
     "output_type": "execute_result"
    }
   ],
   "source": [
    "np.random.seed(5)\n",
    "samples = res_sample(RNA_data,10)\n",
    "samples"
   ]
  },
  {
   "cell_type": "markdown",
   "metadata": {},
   "source": [
    "2. look at outliers; validate the formatting\n",
    "3. clean the data"
   ]
  },
  {
   "cell_type": "code",
   "execution_count": 519,
   "metadata": {},
   "outputs": [
    {
     "data": {
      "text/plain": [
       "gene_name    zucchini\n",
       "wt1-F            n.d.\n",
       "wt2-M            n.d.\n",
       "wt3-F            n.d.\n",
       "wt4-F            n.d.\n",
       "wt5-M            n.d.\n",
       "wt6-F            n.d.\n",
       "wt7-M            n.d.\n",
       "wt8-M            n.d.\n",
       "wt9-F            n.d.\n",
       "wt10-M           n.d.\n",
       "mut1-F           n.d.\n",
       "mut2-F           n.d.\n",
       "mut3-M           n.d.\n",
       "mut4-F           n.d.\n",
       "mut5-M           n.d.\n",
       "mut6-M           n.d.\n",
       "mut7-F           n.d.\n",
       "mut8-M           n.d.\n",
       "mut9-M           n.d.\n",
       "mut10-F          n.d.\n",
       "dtype: object"
      ]
     },
     "execution_count": 519,
     "metadata": {},
     "output_type": "execute_result"
    }
   ],
   "source": [
    "# Find and print the data line that contains the maximum expression level.\n",
    "RNA_data.max() # gives max value of each column"
   ]
  },
  {
   "cell_type": "markdown",
   "metadata": {},
   "source": [
    "It seems like many expression values are \"n.d.\" strings. I will identify them first and clean the data by removing them. Then I will attempt to find the max and min expression levels again, which will hopefully give me insight to what the second problem in the data file is. "
   ]
  },
  {
   "cell_type": "code",
   "execution_count": 520,
   "metadata": {},
   "outputs": [],
   "source": [
    "# detect which rows of data frame contain n.d. values\n",
    "# convert n.d. to NaN for ease of filtering by changing errors = 'coerce' in pd._to_numeric\n",
    "RNA_data.loc[:,'wt1-F':'mut10-F'] = RNA_data.loc[:,'wt1-F':'mut10-F'].apply(pd.to_numeric, errors='coerce')"
   ]
  },
  {
   "cell_type": "code",
   "execution_count": 521,
   "metadata": {},
   "outputs": [],
   "source": [
    "def detect_nan_genes(df):\n",
    "    bad_gene_names = []\n",
    "    for idx, row in df.iterrows():\n",
    "        if math.isnan(row['wt1-F']): # only need to check the first col since I checked that all bad rows have n.d.s in all non gene_name cols\n",
    "            bad_gene_names.append(row['gene_name'])\n",
    "    return bad_gene_names"
   ]
  },
  {
   "cell_type": "code",
   "execution_count": 522,
   "metadata": {},
   "outputs": [
    {
     "data": {
      "text/plain": [
       "27"
      ]
     },
     "execution_count": 522,
     "metadata": {},
     "output_type": "execute_result"
    }
   ],
   "source": [
    "nan_genes = detect_nan_genes(RNA_data)\n",
    "len(nan_genes)"
   ]
  },
  {
   "cell_type": "markdown",
   "metadata": {},
   "source": [
    "Given the hint of 43 bad data lines, it seems like there are 16 more lines of bad data in the file, due to the second issue."
   ]
  },
  {
   "cell_type": "code",
   "execution_count": 523,
   "metadata": {},
   "outputs": [
    {
     "data": {
      "text/plain": [
       "20004"
      ]
     },
     "execution_count": 523,
     "metadata": {},
     "output_type": "execute_result"
    }
   ],
   "source": [
    "# Remove these 27 bad lines from df\n",
    "RNA_data = RNA_data.drop(RNA_data[RNA_data['gene_name'].isin(nan_genes)].index)\n",
    "len(RNA_data) # check number of rows decreased from 20031 rows originally"
   ]
  },
  {
   "cell_type": "markdown",
   "metadata": {},
   "source": [
    "Attempting to find the max and min expression levels again, which will hopefully give me insight to what the second problem in the data file is."
   ]
  },
  {
   "cell_type": "code",
   "execution_count": 524,
   "metadata": {},
   "outputs": [
    {
     "data": {
      "text/plain": [
       "mut4-F    126.7\n",
       "dtype: object"
      ]
     },
     "execution_count": 524,
     "metadata": {},
     "output_type": "execute_result"
    }
   ],
   "source": [
    "max_vals = RNA_data.max() # gives max value of each column\n",
    "max_val = max_vals[1:].max() # gives overall max val, excluding 'gene_name' column\n",
    "RNA_data.max()[RNA_data.max() == max_val] # locates corresponding column with max val"
   ]
  },
  {
   "cell_type": "code",
   "execution_count": 525,
   "metadata": {
    "scrolled": true
   },
   "outputs": [
    {
     "data": {
      "text/html": [
       "<div>\n",
       "<style scoped>\n",
       "    .dataframe tbody tr th:only-of-type {\n",
       "        vertical-align: middle;\n",
       "    }\n",
       "\n",
       "    .dataframe tbody tr th {\n",
       "        vertical-align: top;\n",
       "    }\n",
       "\n",
       "    .dataframe thead th {\n",
       "        text-align: right;\n",
       "    }\n",
       "</style>\n",
       "<table border=\"1\" class=\"dataframe\">\n",
       "  <thead>\n",
       "    <tr style=\"text-align: right;\">\n",
       "      <th></th>\n",
       "      <th>gene_name</th>\n",
       "      <th>wt1-F</th>\n",
       "      <th>wt2-M</th>\n",
       "      <th>wt3-F</th>\n",
       "      <th>wt4-F</th>\n",
       "      <th>wt5-M</th>\n",
       "      <th>wt6-F</th>\n",
       "      <th>wt7-M</th>\n",
       "      <th>wt8-M</th>\n",
       "      <th>wt9-F</th>\n",
       "      <th>...</th>\n",
       "      <th>mut1-F</th>\n",
       "      <th>mut2-F</th>\n",
       "      <th>mut3-M</th>\n",
       "      <th>mut4-F</th>\n",
       "      <th>mut5-M</th>\n",
       "      <th>mut6-M</th>\n",
       "      <th>mut7-F</th>\n",
       "      <th>mut8-M</th>\n",
       "      <th>mut9-M</th>\n",
       "      <th>mut10-F</th>\n",
       "    </tr>\n",
       "  </thead>\n",
       "  <tbody>\n",
       "    <tr>\n",
       "      <th>5850</th>\n",
       "      <td>PLAC8L1</td>\n",
       "      <td>80.2</td>\n",
       "      <td>50.1</td>\n",
       "      <td>77.4</td>\n",
       "      <td>79.7</td>\n",
       "      <td>49.8</td>\n",
       "      <td>81.3</td>\n",
       "      <td>51.6</td>\n",
       "      <td>47.9</td>\n",
       "      <td>79.7</td>\n",
       "      <td>...</td>\n",
       "      <td>73.9</td>\n",
       "      <td>41</td>\n",
       "      <td>51.8</td>\n",
       "      <td>126.7</td>\n",
       "      <td>51.7</td>\n",
       "      <td>76.7</td>\n",
       "      <td>67.9</td>\n",
       "      <td>59.8</td>\n",
       "      <td>88.6</td>\n",
       "      <td>77.1</td>\n",
       "    </tr>\n",
       "  </tbody>\n",
       "</table>\n",
       "<p>1 rows × 21 columns</p>\n",
       "</div>"
      ],
      "text/plain": [
       "     gene_name wt1-F wt2-M wt3-F wt4-F wt5-M wt6-F wt7-M wt8-M wt9-F  ...  \\\n",
       "5850   PLAC8L1  80.2  50.1  77.4  79.7  49.8  81.3  51.6  47.9  79.7  ...   \n",
       "\n",
       "     mut1-F mut2-F mut3-M mut4-F mut5-M mut6-M mut7-F mut8-M mut9-M mut10-F  \n",
       "5850   73.9     41   51.8  126.7   51.7   76.7   67.9   59.8   88.6    77.1  \n",
       "\n",
       "[1 rows x 21 columns]"
      ]
     },
     "execution_count": 525,
     "metadata": {},
     "output_type": "execute_result"
    }
   ],
   "source": [
    "RNA_data[RNA_data['mut4-F'] == 126.7]# get row with max val"
   ]
  },
  {
   "cell_type": "markdown",
   "metadata": {},
   "source": [
    "Let's see if there are issues with finding the min expression level"
   ]
  },
  {
   "cell_type": "code",
   "execution_count": 526,
   "metadata": {
    "scrolled": true
   },
   "outputs": [
    {
     "data": {
      "text/plain": [
       "gene_name    A1BG\n",
       "wt1-F        -999\n",
       "wt2-M        -999\n",
       "wt3-F        -999\n",
       "wt4-F        -999\n",
       "wt5-M        -999\n",
       "wt6-F        -999\n",
       "wt7-M        -999\n",
       "wt8-M        -999\n",
       "wt9-F        -999\n",
       "wt10-M       -999\n",
       "mut1-F       -999\n",
       "mut2-F       -999\n",
       "mut3-M       -999\n",
       "mut4-F       -999\n",
       "mut5-M       -999\n",
       "mut6-M       -999\n",
       "mut7-F       -999\n",
       "mut8-M       -999\n",
       "mut9-M       -999\n",
       "mut10-F      -999\n",
       "dtype: object"
      ]
     },
     "execution_count": 526,
     "metadata": {},
     "output_type": "execute_result"
    }
   ],
   "source": [
    "RNA_data.min()"
   ]
  },
  {
   "cell_type": "markdown",
   "metadata": {},
   "source": [
    "TPMs should not be negative. Need to filter these out as well."
   ]
  },
  {
   "cell_type": "code",
   "execution_count": 527,
   "metadata": {},
   "outputs": [],
   "source": [
    "def detect_neg_genes(df):\n",
    "    bad_gene_names = []\n",
    "    for idx, row in df.iterrows():\n",
    "        if row['wt1-F'] < 0: # only need to check the first col since I checked that all bad rows have negative vals in all non gene_name cols\n",
    "            bad_gene_names.append(row['gene_name'])\n",
    "    return bad_gene_names"
   ]
  },
  {
   "cell_type": "code",
   "execution_count": 528,
   "metadata": {},
   "outputs": [
    {
     "data": {
      "text/plain": [
       "16"
      ]
     },
     "execution_count": 528,
     "metadata": {},
     "output_type": "execute_result"
    }
   ],
   "source": [
    "neg_genes = detect_neg_genes(RNA_data)\n",
    "len(neg_genes)"
   ]
  },
  {
   "cell_type": "markdown",
   "metadata": {},
   "source": [
    "It looks like the remaining 16 bad lines have negative TPMs. I now have all 43 bad lines accounted for."
   ]
  },
  {
   "cell_type": "code",
   "execution_count": 529,
   "metadata": {},
   "outputs": [
    {
     "data": {
      "text/plain": [
       "19988"
      ]
     },
     "execution_count": 529,
     "metadata": {},
     "output_type": "execute_result"
    }
   ],
   "source": [
    "# Remove these 16 bad lines from df\n",
    "RNA_data = RNA_data.drop(RNA_data[RNA_data['gene_name'].isin(neg_genes)].index)\n",
    "len(RNA_data) # check number of rows is now 19988"
   ]
  },
  {
   "cell_type": "code",
   "execution_count": 530,
   "metadata": {},
   "outputs": [
    {
     "data": {
      "text/plain": [
       "mut1-F     0\n",
       "mut2-F     0\n",
       "mut3-M     0\n",
       "mut4-F     0\n",
       "mut5-M     0\n",
       "mut6-M     0\n",
       "mut7-F     0\n",
       "mut8-M     0\n",
       "mut9-M     0\n",
       "mut10-F    0\n",
       "dtype: object"
      ]
     },
     "execution_count": 530,
     "metadata": {},
     "output_type": "execute_result"
    }
   ],
   "source": [
    "min_vals = RNA_data.min() # gives min value of each column\n",
    "min_val = min_vals[1:].min() # gives overall min val, excluding 'gene_name' column\n",
    "RNA_data.min()[RNA_data.min() == min_val] # locates corresponding column with min val"
   ]
  },
  {
   "cell_type": "markdown",
   "metadata": {},
   "source": [
    "After some exploration, it looks like there are 0 TPMs all throughout the dataset, so it is not possible and not sensible to print all data lines that contains the minimum expression level, which is 0."
   ]
  },
  {
   "cell_type": "markdown",
   "metadata": {},
   "source": [
    "4. tidy the data"
   ]
  },
  {
   "cell_type": "code",
   "execution_count": 531,
   "metadata": {},
   "outputs": [
    {
     "data": {
      "text/html": [
       "<div>\n",
       "<style scoped>\n",
       "    .dataframe tbody tr th:only-of-type {\n",
       "        vertical-align: middle;\n",
       "    }\n",
       "\n",
       "    .dataframe tbody tr th {\n",
       "        vertical-align: top;\n",
       "    }\n",
       "\n",
       "    .dataframe thead th {\n",
       "        text-align: right;\n",
       "    }\n",
       "</style>\n",
       "<table border=\"1\" class=\"dataframe\">\n",
       "  <thead>\n",
       "    <tr style=\"text-align: right;\">\n",
       "      <th>gene_name</th>\n",
       "      <th>anise</th>\n",
       "      <th>apricot</th>\n",
       "      <th>artichoke</th>\n",
       "      <th>arugula</th>\n",
       "      <th>asparagus</th>\n",
       "      <th>avocado</th>\n",
       "      <th>banana</th>\n",
       "      <th>basil</th>\n",
       "      <th>beet</th>\n",
       "      <th>blackberry</th>\n",
       "      <th>...</th>\n",
       "      <th>BX072566.1</th>\n",
       "      <th>AL354822.1</th>\n",
       "      <th>AC023491.2</th>\n",
       "      <th>AC004556.1</th>\n",
       "      <th>AC233755.2</th>\n",
       "      <th>AC233755.1</th>\n",
       "      <th>AC240274.1</th>\n",
       "      <th>AC213203.1</th>\n",
       "      <th>condition</th>\n",
       "      <th>sex</th>\n",
       "    </tr>\n",
       "  </thead>\n",
       "  <tbody>\n",
       "    <tr>\n",
       "      <th>wt1-F</th>\n",
       "      <td>38.6</td>\n",
       "      <td>72.2</td>\n",
       "      <td>76.6</td>\n",
       "      <td>29.4</td>\n",
       "      <td>14</td>\n",
       "      <td>45</td>\n",
       "      <td>25.8</td>\n",
       "      <td>45.8</td>\n",
       "      <td>26.6</td>\n",
       "      <td>39.1</td>\n",
       "      <td>...</td>\n",
       "      <td>55.4</td>\n",
       "      <td>24.5</td>\n",
       "      <td>78.7</td>\n",
       "      <td>39.5</td>\n",
       "      <td>55</td>\n",
       "      <td>44.8</td>\n",
       "      <td>48.8</td>\n",
       "      <td>64.1</td>\n",
       "      <td>wt</td>\n",
       "      <td>F</td>\n",
       "    </tr>\n",
       "    <tr>\n",
       "      <th>wt2-M</th>\n",
       "      <td>65.4</td>\n",
       "      <td>47.3</td>\n",
       "      <td>46.5</td>\n",
       "      <td>56.6</td>\n",
       "      <td>46.6</td>\n",
       "      <td>74.9</td>\n",
       "      <td>64.4</td>\n",
       "      <td>73.5</td>\n",
       "      <td>56.4</td>\n",
       "      <td>69.3</td>\n",
       "      <td>...</td>\n",
       "      <td>86.3</td>\n",
       "      <td>49.7</td>\n",
       "      <td>51.2</td>\n",
       "      <td>59.4</td>\n",
       "      <td>23.3</td>\n",
       "      <td>72.3</td>\n",
       "      <td>19.7</td>\n",
       "      <td>36.8</td>\n",
       "      <td>wt</td>\n",
       "      <td>M</td>\n",
       "    </tr>\n",
       "    <tr>\n",
       "      <th>wt3-F</th>\n",
       "      <td>41.1</td>\n",
       "      <td>77.3</td>\n",
       "      <td>78.9</td>\n",
       "      <td>30.8</td>\n",
       "      <td>16.1</td>\n",
       "      <td>46</td>\n",
       "      <td>33.9</td>\n",
       "      <td>43.2</td>\n",
       "      <td>28.3</td>\n",
       "      <td>36.1</td>\n",
       "      <td>...</td>\n",
       "      <td>55.8</td>\n",
       "      <td>23.5</td>\n",
       "      <td>77.6</td>\n",
       "      <td>30.8</td>\n",
       "      <td>56.5</td>\n",
       "      <td>40.9</td>\n",
       "      <td>54</td>\n",
       "      <td>69.3</td>\n",
       "      <td>wt</td>\n",
       "      <td>F</td>\n",
       "    </tr>\n",
       "    <tr>\n",
       "      <th>wt4-F</th>\n",
       "      <td>36.6</td>\n",
       "      <td>84.8</td>\n",
       "      <td>76.2</td>\n",
       "      <td>30.8</td>\n",
       "      <td>18.4</td>\n",
       "      <td>50.3</td>\n",
       "      <td>27.4</td>\n",
       "      <td>44.4</td>\n",
       "      <td>28.1</td>\n",
       "      <td>41.9</td>\n",
       "      <td>...</td>\n",
       "      <td>51.7</td>\n",
       "      <td>23.7</td>\n",
       "      <td>75</td>\n",
       "      <td>34.5</td>\n",
       "      <td>55.9</td>\n",
       "      <td>41.2</td>\n",
       "      <td>53.7</td>\n",
       "      <td>60</td>\n",
       "      <td>wt</td>\n",
       "      <td>F</td>\n",
       "    </tr>\n",
       "    <tr>\n",
       "      <th>wt5-M</th>\n",
       "      <td>63.6</td>\n",
       "      <td>47.7</td>\n",
       "      <td>47.3</td>\n",
       "      <td>56.1</td>\n",
       "      <td>42.7</td>\n",
       "      <td>75.1</td>\n",
       "      <td>59.3</td>\n",
       "      <td>72.5</td>\n",
       "      <td>52.4</td>\n",
       "      <td>66.4</td>\n",
       "      <td>...</td>\n",
       "      <td>89.7</td>\n",
       "      <td>49.7</td>\n",
       "      <td>50.5</td>\n",
       "      <td>64.4</td>\n",
       "      <td>20.9</td>\n",
       "      <td>69</td>\n",
       "      <td>22.3</td>\n",
       "      <td>35.1</td>\n",
       "      <td>wt</td>\n",
       "      <td>M</td>\n",
       "    </tr>\n",
       "  </tbody>\n",
       "</table>\n",
       "<p>5 rows × 19990 columns</p>\n",
       "</div>"
      ],
      "text/plain": [
       "gene_name anise apricot artichoke arugula asparagus avocado banana basil  \\\n",
       "wt1-F      38.6    72.2      76.6    29.4        14      45   25.8  45.8   \n",
       "wt2-M      65.4    47.3      46.5    56.6      46.6    74.9   64.4  73.5   \n",
       "wt3-F      41.1    77.3      78.9    30.8      16.1      46   33.9  43.2   \n",
       "wt4-F      36.6    84.8      76.2    30.8      18.4    50.3   27.4  44.4   \n",
       "wt5-M      63.6    47.7      47.3    56.1      42.7    75.1   59.3  72.5   \n",
       "\n",
       "gene_name  beet blackberry  ... BX072566.1 AL354822.1 AC023491.2 AC004556.1  \\\n",
       "wt1-F      26.6       39.1  ...       55.4       24.5       78.7       39.5   \n",
       "wt2-M      56.4       69.3  ...       86.3       49.7       51.2       59.4   \n",
       "wt3-F      28.3       36.1  ...       55.8       23.5       77.6       30.8   \n",
       "wt4-F      28.1       41.9  ...       51.7       23.7         75       34.5   \n",
       "wt5-M      52.4       66.4  ...       89.7       49.7       50.5       64.4   \n",
       "\n",
       "gene_name AC233755.2 AC233755.1 AC240274.1 AC213203.1 condition sex  \n",
       "wt1-F             55       44.8       48.8       64.1        wt   F  \n",
       "wt2-M           23.3       72.3       19.7       36.8        wt   M  \n",
       "wt3-F           56.5       40.9         54       69.3        wt   F  \n",
       "wt4-F           55.9       41.2       53.7         60        wt   F  \n",
       "wt5-M           20.9         69       22.3       35.1        wt   M  \n",
       "\n",
       "[5 rows x 19990 columns]"
      ]
     },
     "execution_count": 531,
     "metadata": {},
     "output_type": "execute_result"
    }
   ],
   "source": [
    "# since I customized my column names initially, I can just transpose instead of using the melt function to achieve desired tidy format\n",
    "RNA_data = RNA_data.transpose()\n",
    "new_header = RNA_data.iloc[0] #grab the first row for the header\n",
    "RNA_data = RNA_data[1:] #take the data less the header row\n",
    "RNA_data.columns = new_header #set the header row as the df header\n",
    "condition = ['wt', 'wt', 'wt', 'wt', 'wt', 'wt', 'wt', 'wt', 'wt', 'wt', 'mut', 'mut', 'mut', 'mut', 'mut', 'mut', 'mut', 'mut', 'mut', 'mut']\n",
    "sex = ['F', 'M', 'F', 'F', 'M', 'F', 'M', 'M', 'F', 'M', 'F', 'F', 'M', 'F', 'M', 'M', 'F', 'M', 'M', 'F']\n",
    "RNA_data['condition'] = condition\n",
    "RNA_data['sex'] = sex\n",
    "RNA_data.head()"
   ]
  },
  {
   "cell_type": "markdown",
   "metadata": {},
   "source": [
    "5. visualize the data"
   ]
  },
  {
   "cell_type": "code",
   "execution_count": 532,
   "metadata": {},
   "outputs": [],
   "source": [
    "# resevoir 10 samples from tidy data\n",
    "\n",
    "col_names = list(samples['gene_name']) # 10 random samples from reservoir sampling\n",
    "col_names.append('coriander') # add coriander gene to look at what's going on\n",
    "col_names.append('sex')\n",
    "col_names.append('condition')"
   ]
  },
  {
   "cell_type": "code",
   "execution_count": 533,
   "metadata": {},
   "outputs": [],
   "source": [
    "data = RNA_data[col_names]\n",
    "data = pd.melt(data, id_vars=['condition', 'sex'], var_name=\"gene\", value_name=\"TPM\") # long format easier for plotting\n",
    "data['TPM'] = data['TPM'].astype(float)"
   ]
  },
  {
   "cell_type": "code",
   "execution_count": 534,
   "metadata": {},
   "outputs": [
    {
     "data": {
      "text/plain": [
       "<seaborn.axisgrid.FacetGrid at 0x7f89856e8e80>"
      ]
     },
     "execution_count": 534,
     "metadata": {},
     "output_type": "execute_result"
    },
    {
     "data": {
      "image/png": "[encoded data removed]",
      "text/plain": [
       "<Figure size 908.625x576 with 11 Axes>"
      ]
     },
     "metadata": {
      "needs_background": "light"
     },
     "output_type": "display_data"
    }
   ],
   "source": [
    "g = sns.catplot(x=\"condition\", y=\"TPM\", col=\"gene\", hue = 'sex', data=data, kind=\"swarm\", height=4, aspect=0.5, col_wrap=6)\n",
    "g.set_axis_labels(\"\", \"TPM (transcripts per million)\")\n",
    "g.set_titles(\"{col_name}\")"
   ]
  },
  {
   "cell_type": "markdown",
   "metadata": {},
   "source": [
    "Note to grader: I'm not quite sure why the \"wt\" and \"mut\" labels of the first 5 plots are not showing. It seems like since there are plots below them, seaborn only labels these text once. I can't figure out how to have them show for all subplots, if you know a way please let me know in the feedback, much thanks!"
   ]
  },
  {
   "cell_type": "markdown",
   "metadata": {},
   "source": [
    "6. conclusions\n",
    "\n",
    "From the randomly selected genes shown above, it is clear that there is a difference in expression for each gene between males and females. However, in the mutant genotype, where the coriander gene is knocked out, the mean TPM differences between genders no longer exist. While the overall mean TPM for each gene in the mutant population is similar to that of wild type, the mutant TPM distribution is distributed more evenly within the range without the sex clusters seen in the wild type. In summary, knocking out the coriander gene potentially affects the sex chromosomes, which in turn affect expression in other genes."
   ]
  }
 ],
 "metadata": {
  "kernelspec": {
   "display_name": "Python 3",
   "language": "python",
   "name": "python3"
  },
  "language_info": {
   "codemirror_mode": {
    "name": "ipython",
    "version": 3
   },
   "file_extension": ".py",
   "mimetype": "text/x-python",
   "name": "python",
   "nbconvert_exporter": "python",
   "pygments_lexer": "ipython3",
   "version": "3.6.8"
  }
 },
 "nbformat": 4,
 "nbformat_minor": 2
}
